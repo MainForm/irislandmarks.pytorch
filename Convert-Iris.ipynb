{
 "cells": [
  {
   "cell_type": "markdown",
   "metadata": {},
   "source": [
    "# Convert TFLite model to PyTorch\n",
    "\n",
    "This uses the model **face_detection_front.tflite** from [MediaPipe](https://github.com/google/mediapipe/tree/master/mediapipe/models).\n",
    "\n",
    "Prerequisites:\n",
    "\n",
    "1) Clone the MediaPipe repo:\n",
    "\n",
    "```\n",
    "git clone https://github.com/google/mediapipe.git\n",
    "```\n",
    "\n",
    "2) Install **flatbuffers**:\n",
    "\n",
    "```\n",
    "git clone https://github.com/google/flatbuffers.git\n",
    "cmake -G \"Unix Makefiles\" -DCMAKE_BUILD_TYPE=Release\n",
    "make -j\n",
    "\n",
    "cd flatbuffers/python\n",
    "python setup.py install\n",
    "```\n",
    "\n",
    "3) Clone the TensorFlow repo. We only need this to get the FlatBuffers schema files (I guess you could just download [schema.fbs](https://github.com/tensorflow/tensorflow/blob/master/tensorflow/lite/schema/schema.fbs)).\n",
    "\n",
    "```\n",
    "git clone https://github.com/tensorflow/tensorflow.git\n",
    "```\n",
    "\n",
    "4) Convert the schema files to Python files using **flatc**:\n",
    "\n",
    "```\n",
    "./flatbuffers/flatc --python tensorflow/tensorflow/lite/schema/schema.fbs\n",
    "```\n",
    "\n",
    "Now we can use the Python FlatBuffer API to read the TFLite file!"
   ]
  },
  {
   "cell_type": "code",
   "execution_count": 1,
   "metadata": {},
   "outputs": [],
   "source": [
    "# !git clone https://github.com/google/mediapipe.git\n",
    "# !git clone https://github.com/google/flatbuffers.git\n",
    "# !cd flatbuffers ; cmake -G \"Unix Makefiles\" -DCMAKE_BUILD_TYPE=Release ; make -j\n",
    "# !cd flatbuffers/python ; python setup.py install\n",
    "# !git clone https://github.com/tensorflow/tensorflow.git\n",
    "# !./flatbuffers/flatc --python tensorflow/tensorflow/lite/schema/schema.fbs"
   ]
  },
  {
   "cell_type": "markdown",
   "metadata": {},
   "source": [
    "Now restart this notebook"
   ]
  },
  {
   "cell_type": "code",
   "execution_count": 2,
   "metadata": {},
   "outputs": [],
   "source": [
    "import os\n",
    "import numpy as np\n",
    "from collections import OrderedDict"
   ]
  },
  {
   "cell_type": "markdown",
   "metadata": {},
   "source": [
    "## Get the weights from the TFLite file"
   ]
  },
  {
   "cell_type": "markdown",
   "metadata": {},
   "source": [
    "Load the TFLite model using the FlatBuffers library:"
   ]
  },
  {
   "cell_type": "code",
   "execution_count": 3,
   "metadata": {},
   "outputs": [],
   "source": [
    "from tflite import Model\n",
    "\n",
    "# taken from arcore pod\n",
    "data = open(\"../mediapipe/mediapipe/models/iris_landmark.tflite\", \"rb\").read()\n",
    "model = Model.GetRootAsModel(data, 0)"
   ]
  },
  {
   "cell_type": "code",
   "execution_count": 4,
   "metadata": {},
   "outputs": [
    {
     "output_type": "execute_result",
     "data": {
      "text/plain": [
       "b'faceeyenbrow_iris_full_2019_09_13_v0'"
      ]
     },
     "metadata": {},
     "execution_count": 4
    }
   ],
   "source": [
    "subgraph = model.Subgraphs(0)\n",
    "subgraph.Name()"
   ]
  },
  {
   "cell_type": "code",
   "execution_count": 5,
   "metadata": {},
   "outputs": [],
   "source": [
    "def get_shape(tensor):\n",
    "    return [tensor.Shape(i) for i in range(tensor.ShapeLength())]"
   ]
  },
  {
   "cell_type": "markdown",
   "metadata": {},
   "source": [
    "List all the tensors in the graph:"
   ]
  },
  {
   "cell_type": "code",
   "execution_count": 6,
   "metadata": {
    "tags": []
   },
   "outputs": [
    {
     "output_type": "stream",
     "name": "stdout",
     "text": [
      "  0                     b'input_1' 0  0 [1, 64, 64, 3]\n  1               b'conv2d/Kernel' 0  1 [64, 3, 3, 3]\n  2                 b'conv2d/Bias' 0  2 [64]\n  3                      b'conv2d' 0  0 [1, 32, 32, 64]\n  4               b'p_re_lu/Alpha' 0  3 [1, 1, 64]\n  5                     b'p_re_lu' 0  0 [1, 32, 32, 64]\n  6             b'conv2d_1/Kernel' 0  4 [32, 1, 1, 64]\n  7               b'conv2d_1/Bias' 0  5 [32]\n  8                    b'conv2d_1' 0  0 [1, 32, 32, 32]\n  9             b'p_re_lu_1/Alpha' 0  6 [1, 1, 32]\n 10                   b'p_re_lu_1' 0  0 [1, 32, 32, 32]\n 11     b'depthwise_conv2d/Kernel' 0  7 [1, 3, 3, 32]\n 12       b'depthwise_conv2d/Bias' 0  8 [32]\n 13            b'depthwise_conv2d' 0  0 [1, 32, 32, 32]\n 14             b'conv2d_2/Kernel' 0  9 [64, 1, 1, 32]\n 15               b'conv2d_2/Bias' 0 10 [64]\n 16                    b'conv2d_2' 0  0 [1, 32, 32, 64]\n 17         b'add__xeno_compat__1' 0  0 [1, 32, 32, 64]\n 18             b'p_re_lu_2/Alpha' 0 11 [1, 1, 64]\n 19                   b'p_re_lu_2' 0  0 [1, 32, 32, 64]\n 20             b'conv2d_3/Kernel' 0 12 [32, 1, 1, 64]\n 21               b'conv2d_3/Bias' 0 13 [32]\n 22                    b'conv2d_3' 0  0 [1, 32, 32, 32]\n 23             b'p_re_lu_3/Alpha' 0 14 [1, 1, 32]\n 24                   b'p_re_lu_3' 0  0 [1, 32, 32, 32]\n 25   b'depthwise_conv2d_1/Kernel' 0 15 [1, 3, 3, 32]\n 26     b'depthwise_conv2d_1/Bias' 0 16 [32]\n 27          b'depthwise_conv2d_1' 0  0 [1, 32, 32, 32]\n 28             b'conv2d_4/Kernel' 0 17 [64, 1, 1, 32]\n 29               b'conv2d_4/Bias' 0 18 [64]\n 30                    b'conv2d_4' 0  0 [1, 32, 32, 64]\n 31       b'add_1__xeno_compat__1' 0  0 [1, 32, 32, 64]\n 32             b'p_re_lu_4/Alpha' 0 19 [1, 1, 64]\n 33                   b'p_re_lu_4' 0  0 [1, 32, 32, 64]\n 34             b'conv2d_5/Kernel' 0 20 [32, 1, 1, 64]\n 35               b'conv2d_5/Bias' 0 21 [32]\n 36                    b'conv2d_5' 0  0 [1, 32, 32, 32]\n 37             b'p_re_lu_5/Alpha' 0 22 [1, 1, 32]\n 38                   b'p_re_lu_5' 0  0 [1, 32, 32, 32]\n 39   b'depthwise_conv2d_2/Kernel' 0 23 [1, 3, 3, 32]\n 40     b'depthwise_conv2d_2/Bias' 0 24 [32]\n 41          b'depthwise_conv2d_2' 0  0 [1, 32, 32, 32]\n 42             b'conv2d_6/Kernel' 0 25 [64, 1, 1, 32]\n 43               b'conv2d_6/Bias' 0 26 [64]\n 44                    b'conv2d_6' 0  0 [1, 32, 32, 64]\n 45       b'add_2__xeno_compat__1' 0  0 [1, 32, 32, 64]\n 46             b'p_re_lu_6/Alpha' 0 27 [1, 1, 64]\n 47                   b'p_re_lu_6' 0  0 [1, 32, 32, 64]\n 48             b'conv2d_7/Kernel' 0 28 [32, 1, 1, 64]\n 49               b'conv2d_7/Bias' 0 29 [32]\n 50                    b'conv2d_7' 0  0 [1, 32, 32, 32]\n 51             b'p_re_lu_7/Alpha' 0 30 [1, 1, 32]\n 52                   b'p_re_lu_7' 0  0 [1, 32, 32, 32]\n 53   b'depthwise_conv2d_3/Kernel' 0 31 [1, 3, 3, 32]\n 54     b'depthwise_conv2d_3/Bias' 0 32 [32]\n 55          b'depthwise_conv2d_3' 0  0 [1, 32, 32, 32]\n 56             b'conv2d_8/Kernel' 0 33 [64, 1, 1, 32]\n 57               b'conv2d_8/Bias' 0 34 [64]\n 58                    b'conv2d_8' 0  0 [1, 32, 32, 64]\n 59       b'add_3__xeno_compat__1' 0  0 [1, 32, 32, 64]\n 60             b'p_re_lu_8/Alpha' 0 35 [1, 1, 64]\n 61                   b'p_re_lu_8' 0  0 [1, 32, 32, 64]\n 62             b'conv2d_9/Kernel' 0 36 [64, 2, 2, 64]\n 63               b'conv2d_9/Bias' 0 37 [64]\n 64                    b'conv2d_9' 0  0 [1, 16, 16, 64]\n 65             b'p_re_lu_9/Alpha' 0 38 [1, 1, 64]\n 66                   b'p_re_lu_9' 0  0 [1, 16, 16, 64]\n 67   b'depthwise_conv2d_4/Kernel' 0 39 [1, 3, 3, 64]\n 68     b'depthwise_conv2d_4/Bias' 0 40 [64]\n 69          b'depthwise_conv2d_4' 0  0 [1, 16, 16, 64]\n 70               b'max_pooling2d' 0  0 [1, 16, 16, 64]\n 71            b'conv2d_10/Kernel' 0 41 [128, 1, 1, 64]\n 72              b'conv2d_10/Bias' 0 42 [128]\n 73                   b'conv2d_10' 0  0 [1, 16, 16, 128]\n 74    b'channel_padding/Paddings' 2 43 [4, 2]\n 75             b'channel_padding' 0  0 [1, 16, 16, 128]\n 76       b'add_4__xeno_compat__1' 0  0 [1, 16, 16, 128]\n 77            b'p_re_lu_10/Alpha' 0 44 [1, 1, 128]\n 78                  b'p_re_lu_10' 0  0 [1, 16, 16, 128]\n 79            b'conv2d_11/Kernel' 0 45 [64, 1, 1, 128]\n 80              b'conv2d_11/Bias' 0 46 [64]\n 81                   b'conv2d_11' 0  0 [1, 16, 16, 64]\n 82            b'p_re_lu_11/Alpha' 0 47 [1, 1, 64]\n 83                  b'p_re_lu_11' 0  0 [1, 16, 16, 64]\n 84   b'depthwise_conv2d_5/Kernel' 0 48 [1, 3, 3, 64]\n 85     b'depthwise_conv2d_5/Bias' 0 49 [64]\n 86          b'depthwise_conv2d_5' 0  0 [1, 16, 16, 64]\n 87            b'conv2d_12/Kernel' 0 50 [128, 1, 1, 64]\n 88              b'conv2d_12/Bias' 0 51 [128]\n 89                   b'conv2d_12' 0  0 [1, 16, 16, 128]\n 90       b'add_5__xeno_compat__1' 0  0 [1, 16, 16, 128]\n 91            b'p_re_lu_12/Alpha' 0 52 [1, 1, 128]\n 92                  b'p_re_lu_12' 0  0 [1, 16, 16, 128]\n 93            b'conv2d_13/Kernel' 0 53 [64, 1, 1, 128]\n 94              b'conv2d_13/Bias' 0 54 [64]\n 95                   b'conv2d_13' 0  0 [1, 16, 16, 64]\n 96            b'p_re_lu_13/Alpha' 0 55 [1, 1, 64]\n 97                  b'p_re_lu_13' 0  0 [1, 16, 16, 64]\n 98   b'depthwise_conv2d_6/Kernel' 0 56 [1, 3, 3, 64]\n 99     b'depthwise_conv2d_6/Bias' 0 57 [64]\n100          b'depthwise_conv2d_6' 0  0 [1, 16, 16, 64]\n101            b'conv2d_14/Kernel' 0 58 [128, 1, 1, 64]\n102              b'conv2d_14/Bias' 0 59 [128]\n103                   b'conv2d_14' 0  0 [1, 16, 16, 128]\n104       b'add_6__xeno_compat__1' 0  0 [1, 16, 16, 128]\n105            b'p_re_lu_14/Alpha' 0 60 [1, 1, 128]\n106                  b'p_re_lu_14' 0  0 [1, 16, 16, 128]\n107            b'conv2d_15/Kernel' 0 61 [64, 1, 1, 128]\n108              b'conv2d_15/Bias' 0 62 [64]\n109                   b'conv2d_15' 0  0 [1, 16, 16, 64]\n110            b'p_re_lu_15/Alpha' 0 63 [1, 1, 64]\n111                  b'p_re_lu_15' 0  0 [1, 16, 16, 64]\n112   b'depthwise_conv2d_7/Kernel' 0 64 [1, 3, 3, 64]\n113     b'depthwise_conv2d_7/Bias' 0 65 [64]\n114          b'depthwise_conv2d_7' 0  0 [1, 16, 16, 64]\n115            b'conv2d_16/Kernel' 0 66 [128, 1, 1, 64]\n116              b'conv2d_16/Bias' 0 67 [128]\n117                   b'conv2d_16' 0  0 [1, 16, 16, 128]\n118       b'add_7__xeno_compat__1' 0  0 [1, 16, 16, 128]\n119            b'p_re_lu_16/Alpha' 0 68 [1, 1, 128]\n120                  b'p_re_lu_16' 0  0 [1, 16, 16, 128]\n121            b'conv2d_17/Kernel' 0 69 [64, 1, 1, 128]\n122              b'conv2d_17/Bias' 0 70 [64]\n123                   b'conv2d_17' 0  0 [1, 16, 16, 64]\n124            b'p_re_lu_17/Alpha' 0 71 [1, 1, 64]\n125                  b'p_re_lu_17' 0  0 [1, 16, 16, 64]\n126   b'depthwise_conv2d_8/Kernel' 0 72 [1, 3, 3, 64]\n127     b'depthwise_conv2d_8/Bias' 0 73 [64]\n128          b'depthwise_conv2d_8' 0  0 [1, 16, 16, 64]\n129            b'conv2d_18/Kernel' 0 74 [128, 1, 1, 64]\n130              b'conv2d_18/Bias' 0 75 [128]\n131                   b'conv2d_18' 0  0 [1, 16, 16, 128]\n132       b'add_8__xeno_compat__1' 0  0 [1, 16, 16, 128]\n133            b'p_re_lu_18/Alpha' 0 76 [1, 1, 128]\n134                  b'p_re_lu_18' 0  0 [1, 16, 16, 128]\n135            b'conv2d_19/Kernel' 0 77 [64, 2, 2, 128]\n136              b'conv2d_19/Bias' 0 78 [64]\n137                   b'conv2d_19' 0  0 [1, 8, 8, 64]\n138            b'p_re_lu_19/Alpha' 0 79 [1, 1, 64]\n139                  b'p_re_lu_19' 0  0 [1, 8, 8, 64]\n140   b'depthwise_conv2d_9/Kernel' 0 80 [1, 3, 3, 64]\n141     b'depthwise_conv2d_9/Bias' 0 81 [64]\n142          b'depthwise_conv2d_9' 0  0 [1, 8, 8, 64]\n143            b'conv2d_20/Kernel' 0 82 [128, 1, 1, 64]\n144              b'conv2d_20/Bias' 0 83 [128]\n145                   b'conv2d_20' 0  0 [1, 8, 8, 128]\n146             b'max_pooling2d_1' 0  0 [1, 8, 8, 128]\n147       b'add_9__xeno_compat__1' 0  0 [1, 8, 8, 128]\n148            b'p_re_lu_20/Alpha' 0 84 [1, 1, 128]\n149                  b'p_re_lu_20' 0  0 [1, 8, 8, 128]\n150            b'conv2d_21/Kernel' 0 85 [64, 1, 1, 128]\n151              b'conv2d_21/Bias' 0 86 [64]\n152                   b'conv2d_21' 0  0 [1, 8, 8, 64]\n153            b'conv2d_37/Kernel' 0 87 [64, 1, 1, 128]\n154              b'conv2d_37/Bias' 0 88 [64]\n155                   b'conv2d_37' 0  0 [1, 8, 8, 64]\n156            b'p_re_lu_21/Alpha' 0 89 [1, 1, 64]\n157                  b'p_re_lu_21' 0  0 [1, 8, 8, 64]\n158            b'p_re_lu_37/Alpha' 0 90 [1, 1, 64]\n159                  b'p_re_lu_37' 0  0 [1, 8, 8, 64]\n160  b'depthwise_conv2d_10/Kernel' 0 91 [1, 3, 3, 64]\n161    b'depthwise_conv2d_10/Bias' 0 92 [64]\n162         b'depthwise_conv2d_10' 0  0 [1, 8, 8, 64]\n163  b'depthwise_conv2d_18/Kernel' 0 93 [1, 3, 3, 64]\n164    b'depthwise_conv2d_18/Bias' 0 94 [64]\n165         b'depthwise_conv2d_18' 0  0 [1, 8, 8, 64]\n166            b'conv2d_22/Kernel' 0 95 [128, 1, 1, 64]\n167              b'conv2d_22/Bias' 0 96 [128]\n168                   b'conv2d_22' 0  0 [1, 8, 8, 128]\n169            b'conv2d_38/Kernel' 0 97 [128, 1, 1, 64]\n170              b'conv2d_38/Bias' 0 98 [128]\n171                   b'conv2d_38' 0  0 [1, 8, 8, 128]\n172      b'add_10__xeno_compat__1' 0  0 [1, 8, 8, 128]\n173      b'add_18__xeno_compat__1' 0  0 [1, 8, 8, 128]\n174            b'p_re_lu_22/Alpha' 0 99 [1, 1, 128]\n175                  b'p_re_lu_22' 0  0 [1, 8, 8, 128]\n176            b'p_re_lu_38/Alpha' 0 100 [1, 1, 128]\n177                  b'p_re_lu_38' 0  0 [1, 8, 8, 128]\n178            b'conv2d_23/Kernel' 0 101 [64, 1, 1, 128]\n179              b'conv2d_23/Bias' 0 102 [64]\n180                   b'conv2d_23' 0  0 [1, 8, 8, 64]\n181            b'conv2d_39/Kernel' 0 103 [64, 1, 1, 128]\n182              b'conv2d_39/Bias' 0 104 [64]\n183                   b'conv2d_39' 0  0 [1, 8, 8, 64]\n184            b'p_re_lu_23/Alpha' 0 105 [1, 1, 64]\n185                  b'p_re_lu_23' 0  0 [1, 8, 8, 64]\n186            b'p_re_lu_39/Alpha' 0 106 [1, 1, 64]\n187                  b'p_re_lu_39' 0  0 [1, 8, 8, 64]\n188  b'depthwise_conv2d_11/Kernel' 0 107 [1, 3, 3, 64]\n189    b'depthwise_conv2d_11/Bias' 0 108 [64]\n190         b'depthwise_conv2d_11' 0  0 [1, 8, 8, 64]\n191  b'depthwise_conv2d_19/Kernel' 0 109 [1, 3, 3, 64]\n192    b'depthwise_conv2d_19/Bias' 0 110 [64]\n193         b'depthwise_conv2d_19' 0  0 [1, 8, 8, 64]\n194            b'conv2d_24/Kernel' 0 111 [128, 1, 1, 64]\n195              b'conv2d_24/Bias' 0 112 [128]\n196                   b'conv2d_24' 0  0 [1, 8, 8, 128]\n197            b'conv2d_40/Kernel' 0 113 [128, 1, 1, 64]\n198              b'conv2d_40/Bias' 0 114 [128]\n199                   b'conv2d_40' 0  0 [1, 8, 8, 128]\n200      b'add_11__xeno_compat__1' 0  0 [1, 8, 8, 128]\n201      b'add_19__xeno_compat__1' 0  0 [1, 8, 8, 128]\n202            b'p_re_lu_24/Alpha' 0 115 [1, 1, 128]\n203                  b'p_re_lu_24' 0  0 [1, 8, 8, 128]\n204            b'p_re_lu_40/Alpha' 0 116 [1, 1, 128]\n205                  b'p_re_lu_40' 0  0 [1, 8, 8, 128]\n206            b'conv2d_25/Kernel' 0 117 [64, 2, 2, 128]\n207              b'conv2d_25/Bias' 0 118 [64]\n208                   b'conv2d_25' 0  0 [1, 4, 4, 64]\n209            b'conv2d_41/Kernel' 0 119 [64, 2, 2, 128]\n210              b'conv2d_41/Bias' 0 120 [64]\n211                   b'conv2d_41' 0  0 [1, 4, 4, 64]\n212            b'p_re_lu_25/Alpha' 0 121 [1, 1, 64]\n213                  b'p_re_lu_25' 0  0 [1, 4, 4, 64]\n214            b'p_re_lu_41/Alpha' 0 122 [1, 1, 64]\n215                  b'p_re_lu_41' 0  0 [1, 4, 4, 64]\n216  b'depthwise_conv2d_12/Kernel' 0 123 [1, 3, 3, 64]\n217    b'depthwise_conv2d_12/Bias' 0 124 [64]\n218         b'depthwise_conv2d_12' 0  0 [1, 4, 4, 64]\n219  b'depthwise_conv2d_20/Kernel' 0 125 [1, 3, 3, 64]\n220    b'depthwise_conv2d_20/Bias' 0 126 [64]\n221         b'depthwise_conv2d_20' 0  0 [1, 4, 4, 64]\n222            b'conv2d_26/Kernel' 0 127 [128, 1, 1, 64]\n223              b'conv2d_26/Bias' 0 128 [128]\n224                   b'conv2d_26' 0  0 [1, 4, 4, 128]\n225            b'conv2d_42/Kernel' 0 129 [128, 1, 1, 64]\n226              b'conv2d_42/Bias' 0 130 [128]\n227                   b'conv2d_42' 0  0 [1, 4, 4, 128]\n228             b'max_pooling2d_2' 0  0 [1, 4, 4, 128]\n229             b'max_pooling2d_4' 0  0 [1, 4, 4, 128]\n230      b'add_12__xeno_compat__1' 0  0 [1, 4, 4, 128]\n231      b'add_20__xeno_compat__1' 0  0 [1, 4, 4, 128]\n232            b'p_re_lu_26/Alpha' 0 131 [1, 1, 128]\n233                  b'p_re_lu_26' 0  0 [1, 4, 4, 128]\n234            b'p_re_lu_42/Alpha' 0 132 [1, 1, 128]\n235                  b'p_re_lu_42' 0  0 [1, 4, 4, 128]\n236            b'conv2d_27/Kernel' 0 133 [64, 1, 1, 128]\n237              b'conv2d_27/Bias' 0 134 [64]\n238                   b'conv2d_27' 0  0 [1, 4, 4, 64]\n239            b'conv2d_43/Kernel' 0 135 [64, 1, 1, 128]\n240              b'conv2d_43/Bias' 0 136 [64]\n241                   b'conv2d_43' 0  0 [1, 4, 4, 64]\n242            b'p_re_lu_27/Alpha' 0 137 [1, 1, 64]\n243                  b'p_re_lu_27' 0  0 [1, 4, 4, 64]\n244            b'p_re_lu_43/Alpha' 0 138 [1, 1, 64]\n245                  b'p_re_lu_43' 0  0 [1, 4, 4, 64]\n246  b'depthwise_conv2d_13/Kernel' 0 139 [1, 3, 3, 64]\n247    b'depthwise_conv2d_13/Bias' 0 140 [64]\n248         b'depthwise_conv2d_13' 0  0 [1, 4, 4, 64]\n249  b'depthwise_conv2d_21/Kernel' 0 141 [1, 3, 3, 64]\n250    b'depthwise_conv2d_21/Bias' 0 142 [64]\n251         b'depthwise_conv2d_21' 0  0 [1, 4, 4, 64]\n252            b'conv2d_28/Kernel' 0 143 [128, 1, 1, 64]\n253              b'conv2d_28/Bias' 0 144 [128]\n254                   b'conv2d_28' 0  0 [1, 4, 4, 128]\n255            b'conv2d_44/Kernel' 0 145 [128, 1, 1, 64]\n256              b'conv2d_44/Bias' 0 146 [128]\n257                   b'conv2d_44' 0  0 [1, 4, 4, 128]\n258      b'add_13__xeno_compat__1' 0  0 [1, 4, 4, 128]\n259      b'add_21__xeno_compat__1' 0  0 [1, 4, 4, 128]\n260            b'p_re_lu_28/Alpha' 0 147 [1, 1, 128]\n261                  b'p_re_lu_28' 0  0 [1, 4, 4, 128]\n262            b'p_re_lu_44/Alpha' 0 148 [1, 1, 128]\n263                  b'p_re_lu_44' 0  0 [1, 4, 4, 128]\n264            b'conv2d_29/Kernel' 0 149 [64, 1, 1, 128]\n265              b'conv2d_29/Bias' 0 150 [64]\n266                   b'conv2d_29' 0  0 [1, 4, 4, 64]\n267            b'conv2d_45/Kernel' 0 151 [64, 1, 1, 128]\n268              b'conv2d_45/Bias' 0 152 [64]\n269                   b'conv2d_45' 0  0 [1, 4, 4, 64]\n270            b'p_re_lu_29/Alpha' 0 153 [1, 1, 64]\n271                  b'p_re_lu_29' 0  0 [1, 4, 4, 64]\n272            b'p_re_lu_45/Alpha' 0 154 [1, 1, 64]\n273                  b'p_re_lu_45' 0  0 [1, 4, 4, 64]\n274  b'depthwise_conv2d_14/Kernel' 0 155 [1, 3, 3, 64]\n275    b'depthwise_conv2d_14/Bias' 0 156 [64]\n276         b'depthwise_conv2d_14' 0  0 [1, 4, 4, 64]\n277  b'depthwise_conv2d_22/Kernel' 0 157 [1, 3, 3, 64]\n278    b'depthwise_conv2d_22/Bias' 0 158 [64]\n279         b'depthwise_conv2d_22' 0  0 [1, 4, 4, 64]\n280            b'conv2d_30/Kernel' 0 159 [128, 1, 1, 64]\n281              b'conv2d_30/Bias' 0 160 [128]\n282                   b'conv2d_30' 0  0 [1, 4, 4, 128]\n283            b'conv2d_46/Kernel' 0 161 [128, 1, 1, 64]\n284              b'conv2d_46/Bias' 0 162 [128]\n285                   b'conv2d_46' 0  0 [1, 4, 4, 128]\n286      b'add_14__xeno_compat__1' 0  0 [1, 4, 4, 128]\n287      b'add_22__xeno_compat__1' 0  0 [1, 4, 4, 128]\n288            b'p_re_lu_30/Alpha' 0 163 [1, 1, 128]\n289                  b'p_re_lu_30' 0  0 [1, 4, 4, 128]\n290            b'p_re_lu_46/Alpha' 0 164 [1, 1, 128]\n291                  b'p_re_lu_46' 0  0 [1, 4, 4, 128]\n292            b'conv2d_31/Kernel' 0 165 [64, 2, 2, 128]\n293              b'conv2d_31/Bias' 0 166 [64]\n294                   b'conv2d_31' 0  0 [1, 2, 2, 64]\n295            b'conv2d_47/Kernel' 0 167 [64, 2, 2, 128]\n296              b'conv2d_47/Bias' 0 168 [64]\n297                   b'conv2d_47' 0  0 [1, 2, 2, 64]\n298            b'p_re_lu_31/Alpha' 0 169 [1, 1, 64]\n299                  b'p_re_lu_31' 0  0 [1, 2, 2, 64]\n300            b'p_re_lu_47/Alpha' 0 170 [1, 1, 64]\n301                  b'p_re_lu_47' 0  0 [1, 2, 2, 64]\n302  b'depthwise_conv2d_15/Kernel' 0 171 [1, 3, 3, 64]\n303    b'depthwise_conv2d_15/Bias' 0 172 [64]\n304         b'depthwise_conv2d_15' 0  0 [1, 2, 2, 64]\n305  b'depthwise_conv2d_23/Kernel' 0 173 [1, 3, 3, 64]\n306    b'depthwise_conv2d_23/Bias' 0 174 [64]\n307         b'depthwise_conv2d_23' 0  0 [1, 2, 2, 64]\n308            b'conv2d_32/Kernel' 0 175 [128, 1, 1, 64]\n309              b'conv2d_32/Bias' 0 176 [128]\n310                   b'conv2d_32' 0  0 [1, 2, 2, 128]\n311            b'conv2d_48/Kernel' 0 177 [128, 1, 1, 64]\n312              b'conv2d_48/Bias' 0 178 [128]\n313                   b'conv2d_48' 0  0 [1, 2, 2, 128]\n314             b'max_pooling2d_3' 0  0 [1, 2, 2, 128]\n315             b'max_pooling2d_5' 0  0 [1, 2, 2, 128]\n316      b'add_15__xeno_compat__1' 0  0 [1, 2, 2, 128]\n317      b'add_23__xeno_compat__1' 0  0 [1, 2, 2, 128]\n318            b'p_re_lu_32/Alpha' 0 179 [1, 1, 128]\n319                  b'p_re_lu_32' 0  0 [1, 2, 2, 128]\n320            b'p_re_lu_48/Alpha' 0 180 [1, 1, 128]\n321                  b'p_re_lu_48' 0  0 [1, 2, 2, 128]\n322            b'conv2d_33/Kernel' 0 181 [64, 1, 1, 128]\n323              b'conv2d_33/Bias' 0 182 [64]\n324                   b'conv2d_33' 0  0 [1, 2, 2, 64]\n325            b'conv2d_49/Kernel' 0 183 [64, 1, 1, 128]\n326              b'conv2d_49/Bias' 0 184 [64]\n327                   b'conv2d_49' 0  0 [1, 2, 2, 64]\n328            b'p_re_lu_33/Alpha' 0 185 [1, 1, 64]\n329                  b'p_re_lu_33' 0  0 [1, 2, 2, 64]\n330            b'p_re_lu_49/Alpha' 0 186 [1, 1, 64]\n331                  b'p_re_lu_49' 0  0 [1, 2, 2, 64]\n332  b'depthwise_conv2d_16/Kernel' 0 187 [1, 3, 3, 64]\n333    b'depthwise_conv2d_16/Bias' 0 188 [64]\n334         b'depthwise_conv2d_16' 0  0 [1, 2, 2, 64]\n335  b'depthwise_conv2d_24/Kernel' 0 189 [1, 3, 3, 64]\n336    b'depthwise_conv2d_24/Bias' 0 190 [64]\n337         b'depthwise_conv2d_24' 0  0 [1, 2, 2, 64]\n338            b'conv2d_34/Kernel' 0 191 [128, 1, 1, 64]\n339              b'conv2d_34/Bias' 0 192 [128]\n340                   b'conv2d_34' 0  0 [1, 2, 2, 128]\n341            b'conv2d_50/Kernel' 0 193 [128, 1, 1, 64]\n342              b'conv2d_50/Bias' 0 194 [128]\n343                   b'conv2d_50' 0  0 [1, 2, 2, 128]\n344      b'add_16__xeno_compat__1' 0  0 [1, 2, 2, 128]\n345      b'add_24__xeno_compat__1' 0  0 [1, 2, 2, 128]\n346            b'p_re_lu_34/Alpha' 0 195 [1, 1, 128]\n347                  b'p_re_lu_34' 0  0 [1, 2, 2, 128]\n348            b'p_re_lu_50/Alpha' 0 196 [1, 1, 128]\n349                  b'p_re_lu_50' 0  0 [1, 2, 2, 128]\n350            b'conv2d_35/Kernel' 0 197 [64, 1, 1, 128]\n351              b'conv2d_35/Bias' 0 198 [64]\n352                   b'conv2d_35' 0  0 [1, 2, 2, 64]\n353            b'conv2d_51/Kernel' 0 199 [64, 1, 1, 128]\n354              b'conv2d_51/Bias' 0 200 [64]\n355                   b'conv2d_51' 0  0 [1, 2, 2, 64]\n356            b'p_re_lu_35/Alpha' 0 201 [1, 1, 64]\n357                  b'p_re_lu_35' 0  0 [1, 2, 2, 64]\n358            b'p_re_lu_51/Alpha' 0 202 [1, 1, 64]\n359                  b'p_re_lu_51' 0  0 [1, 2, 2, 64]\n360  b'depthwise_conv2d_17/Kernel' 0 203 [1, 3, 3, 64]\n361    b'depthwise_conv2d_17/Bias' 0 204 [64]\n362         b'depthwise_conv2d_17' 0  0 [1, 2, 2, 64]\n363  b'depthwise_conv2d_25/Kernel' 0 205 [1, 3, 3, 64]\n364    b'depthwise_conv2d_25/Bias' 0 206 [64]\n365         b'depthwise_conv2d_25' 0  0 [1, 2, 2, 64]\n366            b'conv2d_36/Kernel' 0 207 [128, 1, 1, 64]\n367              b'conv2d_36/Bias' 0 208 [128]\n368                   b'conv2d_36' 0  0 [1, 2, 2, 128]\n369            b'conv2d_52/Kernel' 0 209 [128, 1, 1, 64]\n370              b'conv2d_52/Bias' 0 210 [128]\n371                   b'conv2d_52' 0  0 [1, 2, 2, 128]\n372      b'add_17__xeno_compat__1' 0  0 [1, 2, 2, 128]\n373      b'add_25__xeno_compat__1' 0  0 [1, 2, 2, 128]\n374            b'p_re_lu_36/Alpha' 0 211 [1, 1, 128]\n375                  b'p_re_lu_36' 0  0 [1, 2, 2, 128]\n376            b'p_re_lu_52/Alpha' 0 212 [1, 1, 128]\n377                  b'p_re_lu_52' 0  0 [1, 2, 2, 128]\n378 b'conv_eyes_contours_and_brows/Kernel' 0 213 [213, 2, 2, 128]\n379 b'conv_eyes_contours_and_brows/Bias' 0 214 [213]\n380 b'conv_eyes_contours_and_brows' 0  0 [1, 1, 1, 213]\n381            b'conv_iris/Kernel' 0 215 [15, 2, 2, 128]\n382              b'conv_iris/Bias' 0 216 [15]\n383                   b'conv_iris' 0  0 [1, 1, 1, 15]\n384 b'output_eyes_contours_and_brows' 0  0 [1, 213]\n385                 b'output_iris' 0  0 [1, 15]\n"
     ]
    }
   ],
   "source": [
    "for i in range(0, subgraph.TensorsLength()):\n",
    "    tensor = subgraph.Tensors(i)\n",
    "    print(\"%3d %30s %d %2d %s\" % (i, tensor.Name(), tensor.Type(), tensor.Buffer(), \n",
    "                                  get_shape(subgraph.Tensors(i))))"
   ]
  },
  {
   "cell_type": "markdown",
   "metadata": {},
   "source": [
    "Make a look-up table that lets us get the tensor index based on the tensor name:"
   ]
  },
  {
   "cell_type": "code",
   "execution_count": 7,
   "metadata": {},
   "outputs": [],
   "source": [
    "tensor_dict = {(subgraph.Tensors(i).Name().decode(\"utf8\")): i \n",
    "               for i in range(subgraph.TensorsLength())}"
   ]
  },
  {
   "cell_type": "markdown",
   "metadata": {},
   "source": [
    "Grab only the tensors that represent weights and biases."
   ]
  },
  {
   "cell_type": "code",
   "execution_count": 8,
   "metadata": {},
   "outputs": [
    {
     "output_type": "execute_result",
     "data": {
      "text/plain": [
       "216"
      ]
     },
     "metadata": {},
     "execution_count": 8
    }
   ],
   "source": [
    "parameters = {}\n",
    "for i in range(subgraph.TensorsLength()):\n",
    "    tensor = subgraph.Tensors(i)\n",
    "    if tensor.Buffer() > 0:\n",
    "        name = tensor.Name().decode(\"utf8\")\n",
    "        parameters[name] = tensor.Buffer()\n",
    "\n",
    "len(parameters)"
   ]
  },
  {
   "cell_type": "markdown",
   "metadata": {},
   "source": [
    "The buffers are simply arrays of bytes. As the docs say,\n",
    "\n",
    "> The data_buffer itself is an opaque container, with the assumption that the\n",
    "> target device is little-endian. In addition, all builtin operators assume\n",
    "> the memory is ordered such that if `shape` is [4, 3, 2], then index\n",
    "> [i, j, k] maps to `data_buffer[i*3*2 + j*2 + k]`.\n",
    "\n",
    "For weights and biases, we need to interpret every 4 bytes as being as float. On my machine, the native byte ordering is already little-endian so we don't need to do anything special for that."
   ]
  },
  {
   "cell_type": "code",
   "execution_count": 9,
   "metadata": {},
   "outputs": [],
   "source": [
    "def get_weights(tensor_name):\n",
    "    i = tensor_dict[tensor_name]\n",
    "    tensor = subgraph.Tensors(i)\n",
    "    buffer = tensor.Buffer()\n",
    "    shape = get_shape(tensor)\n",
    "    assert(tensor.Type() == 0)  # FLOAT32\n",
    "    # tensor types are here: https://github.com/jackwish/tflite/blob/master/tflite/TensorType.py\n",
    "    \n",
    "    W = model.Buffers(buffer).DataAsNumpy()\n",
    "    W = W.view(dtype=np.float32)\n",
    "    W = W.reshape(shape)\n",
    "    return W"
   ]
  },
  {
   "cell_type": "code",
   "execution_count": 10,
   "metadata": {},
   "outputs": [
    {
     "output_type": "execute_result",
     "data": {
      "text/plain": [
       "((32, 1, 1, 64), (32,))"
      ]
     },
     "metadata": {},
     "execution_count": 10
    }
   ],
   "source": [
    "W = get_weights(\"conv2d_1/Kernel\")\n",
    "b = get_weights(\"conv2d_1/Bias\")\n",
    "W.shape, b.shape"
   ]
  },
  {
   "cell_type": "markdown",
   "metadata": {},
   "source": [
    "Now we can get the weights for all the layers and copy them into our PyTorch model."
   ]
  },
  {
   "cell_type": "markdown",
   "metadata": {},
   "source": [
    "## Convert the weights to PyTorch format"
   ]
  },
  {
   "cell_type": "code",
   "execution_count": 11,
   "metadata": {},
   "outputs": [],
   "source": [
    "import torch\n",
    "import torch.nn as nn\n",
    "from irislandmarks import IrisLandmarks"
   ]
  },
  {
   "cell_type": "code",
   "execution_count": 12,
   "metadata": {},
   "outputs": [],
   "source": [
    "net = IrisLandmarks()"
   ]
  },
  {
   "cell_type": "code",
   "execution_count": 13,
   "metadata": {},
   "outputs": [
    {
     "output_type": "execute_result",
     "data": {
      "text/plain": [
       "IrisLandmarks(\n",
       "  (backbone): Sequential(\n",
       "    (0): Conv2d(3, 64, kernel_size=(3, 3), stride=(2, 2))\n",
       "    (1): PReLU(num_parameters=64)\n",
       "    (2): IrisBlock(\n",
       "      (convAct): Sequential(\n",
       "        (0): Conv2d(64, 32, kernel_size=(1, 1), stride=(1, 1))\n",
       "        (1): PReLU(num_parameters=32)\n",
       "      )\n",
       "      (dwConvConv): Sequential(\n",
       "        (0): Conv2d(32, 32, kernel_size=(3, 3), stride=(1, 1), padding=(1, 1), groups=32)\n",
       "        (1): Conv2d(32, 64, kernel_size=(1, 1), stride=(1, 1))\n",
       "      )\n",
       "      (act): PReLU(num_parameters=64)\n",
       "    )\n",
       "    (3): IrisBlock(\n",
       "      (convAct): Sequential(\n",
       "        (0): Conv2d(64, 32, kernel_size=(1, 1), stride=(1, 1))\n",
       "        (1): PReLU(num_parameters=32)\n",
       "      )\n",
       "      (dwConvConv): Sequential(\n",
       "        (0): Conv2d(32, 32, kernel_size=(3, 3), stride=(1, 1), padding=(1, 1), groups=32)\n",
       "        (1): Conv2d(32, 64, kernel_size=(1, 1), stride=(1, 1))\n",
       "      )\n",
       "      (act): PReLU(num_parameters=64)\n",
       "    )\n",
       "    (4): IrisBlock(\n",
       "      (convAct): Sequential(\n",
       "        (0): Conv2d(64, 32, kernel_size=(1, 1), stride=(1, 1))\n",
       "        (1): PReLU(num_parameters=32)\n",
       "      )\n",
       "      (dwConvConv): Sequential(\n",
       "        (0): Conv2d(32, 32, kernel_size=(3, 3), stride=(1, 1), padding=(1, 1), groups=32)\n",
       "        (1): Conv2d(32, 64, kernel_size=(1, 1), stride=(1, 1))\n",
       "      )\n",
       "      (act): PReLU(num_parameters=64)\n",
       "    )\n",
       "    (5): IrisBlock(\n",
       "      (convAct): Sequential(\n",
       "        (0): Conv2d(64, 32, kernel_size=(1, 1), stride=(1, 1))\n",
       "        (1): PReLU(num_parameters=32)\n",
       "      )\n",
       "      (dwConvConv): Sequential(\n",
       "        (0): Conv2d(32, 32, kernel_size=(3, 3), stride=(1, 1), padding=(1, 1), groups=32)\n",
       "        (1): Conv2d(32, 64, kernel_size=(1, 1), stride=(1, 1))\n",
       "      )\n",
       "      (act): PReLU(num_parameters=64)\n",
       "    )\n",
       "    (6): IrisBlock(\n",
       "      (max_pool): MaxPool2d(kernel_size=2, stride=2, padding=0, dilation=1, ceil_mode=False)\n",
       "      (convAct): Sequential(\n",
       "        (0): Conv2d(64, 64, kernel_size=(2, 2), stride=(2, 2))\n",
       "        (1): PReLU(num_parameters=64)\n",
       "      )\n",
       "      (dwConvConv): Sequential(\n",
       "        (0): Conv2d(64, 64, kernel_size=(3, 3), stride=(1, 1), padding=(1, 1), groups=64)\n",
       "        (1): Conv2d(64, 128, kernel_size=(1, 1), stride=(1, 1))\n",
       "      )\n",
       "      (act): PReLU(num_parameters=128)\n",
       "    )\n",
       "    (7): IrisBlock(\n",
       "      (convAct): Sequential(\n",
       "        (0): Conv2d(128, 64, kernel_size=(1, 1), stride=(1, 1))\n",
       "        (1): PReLU(num_parameters=64)\n",
       "      )\n",
       "      (dwConvConv): Sequential(\n",
       "        (0): Conv2d(64, 64, kernel_size=(3, 3), stride=(1, 1), padding=(1, 1), groups=64)\n",
       "        (1): Conv2d(64, 128, kernel_size=(1, 1), stride=(1, 1))\n",
       "      )\n",
       "      (act): PReLU(num_parameters=128)\n",
       "    )\n",
       "    (8): IrisBlock(\n",
       "      (convAct): Sequential(\n",
       "        (0): Conv2d(128, 64, kernel_size=(1, 1), stride=(1, 1))\n",
       "        (1): PReLU(num_parameters=64)\n",
       "      )\n",
       "      (dwConvConv): Sequential(\n",
       "        (0): Conv2d(64, 64, kernel_size=(3, 3), stride=(1, 1), padding=(1, 1), groups=64)\n",
       "        (1): Conv2d(64, 128, kernel_size=(1, 1), stride=(1, 1))\n",
       "      )\n",
       "      (act): PReLU(num_parameters=128)\n",
       "    )\n",
       "    (9): IrisBlock(\n",
       "      (convAct): Sequential(\n",
       "        (0): Conv2d(128, 64, kernel_size=(1, 1), stride=(1, 1))\n",
       "        (1): PReLU(num_parameters=64)\n",
       "      )\n",
       "      (dwConvConv): Sequential(\n",
       "        (0): Conv2d(64, 64, kernel_size=(3, 3), stride=(1, 1), padding=(1, 1), groups=64)\n",
       "        (1): Conv2d(64, 128, kernel_size=(1, 1), stride=(1, 1))\n",
       "      )\n",
       "      (act): PReLU(num_parameters=128)\n",
       "    )\n",
       "    (10): IrisBlock(\n",
       "      (convAct): Sequential(\n",
       "        (0): Conv2d(128, 64, kernel_size=(1, 1), stride=(1, 1))\n",
       "        (1): PReLU(num_parameters=64)\n",
       "      )\n",
       "      (dwConvConv): Sequential(\n",
       "        (0): Conv2d(64, 64, kernel_size=(3, 3), stride=(1, 1), padding=(1, 1), groups=64)\n",
       "        (1): Conv2d(64, 128, kernel_size=(1, 1), stride=(1, 1))\n",
       "      )\n",
       "      (act): PReLU(num_parameters=128)\n",
       "    )\n",
       "    (11): IrisBlock(\n",
       "      (max_pool): MaxPool2d(kernel_size=2, stride=2, padding=0, dilation=1, ceil_mode=False)\n",
       "      (convAct): Sequential(\n",
       "        (0): Conv2d(128, 64, kernel_size=(2, 2), stride=(2, 2))\n",
       "        (1): PReLU(num_parameters=64)\n",
       "      )\n",
       "      (dwConvConv): Sequential(\n",
       "        (0): Conv2d(64, 64, kernel_size=(3, 3), stride=(1, 1), padding=(1, 1), groups=64)\n",
       "        (1): Conv2d(64, 128, kernel_size=(1, 1), stride=(1, 1))\n",
       "      )\n",
       "      (act): PReLU(num_parameters=128)\n",
       "    )\n",
       "  )\n",
       "  (split_eye): Sequential(\n",
       "    (0): IrisBlock(\n",
       "      (convAct): Sequential(\n",
       "        (0): Conv2d(128, 64, kernel_size=(1, 1), stride=(1, 1))\n",
       "        (1): PReLU(num_parameters=64)\n",
       "      )\n",
       "      (dwConvConv): Sequential(\n",
       "        (0): Conv2d(64, 64, kernel_size=(3, 3), stride=(1, 1), padding=(1, 1), groups=64)\n",
       "        (1): Conv2d(64, 128, kernel_size=(1, 1), stride=(1, 1))\n",
       "      )\n",
       "      (act): PReLU(num_parameters=128)\n",
       "    )\n",
       "    (1): IrisBlock(\n",
       "      (convAct): Sequential(\n",
       "        (0): Conv2d(128, 64, kernel_size=(1, 1), stride=(1, 1))\n",
       "        (1): PReLU(num_parameters=64)\n",
       "      )\n",
       "      (dwConvConv): Sequential(\n",
       "        (0): Conv2d(64, 64, kernel_size=(3, 3), stride=(1, 1), padding=(1, 1), groups=64)\n",
       "        (1): Conv2d(64, 128, kernel_size=(1, 1), stride=(1, 1))\n",
       "      )\n",
       "      (act): PReLU(num_parameters=128)\n",
       "    )\n",
       "    (2): IrisBlock(\n",
       "      (max_pool): MaxPool2d(kernel_size=2, stride=2, padding=0, dilation=1, ceil_mode=False)\n",
       "      (convAct): Sequential(\n",
       "        (0): Conv2d(128, 64, kernel_size=(2, 2), stride=(2, 2))\n",
       "        (1): PReLU(num_parameters=64)\n",
       "      )\n",
       "      (dwConvConv): Sequential(\n",
       "        (0): Conv2d(64, 64, kernel_size=(3, 3), stride=(1, 1), padding=(1, 1), groups=64)\n",
       "        (1): Conv2d(64, 128, kernel_size=(1, 1), stride=(1, 1))\n",
       "      )\n",
       "      (act): PReLU(num_parameters=128)\n",
       "    )\n",
       "    (3): IrisBlock(\n",
       "      (convAct): Sequential(\n",
       "        (0): Conv2d(128, 64, kernel_size=(1, 1), stride=(1, 1))\n",
       "        (1): PReLU(num_parameters=64)\n",
       "      )\n",
       "      (dwConvConv): Sequential(\n",
       "        (0): Conv2d(64, 64, kernel_size=(3, 3), stride=(1, 1), padding=(1, 1), groups=64)\n",
       "        (1): Conv2d(64, 128, kernel_size=(1, 1), stride=(1, 1))\n",
       "      )\n",
       "      (act): PReLU(num_parameters=128)\n",
       "    )\n",
       "    (4): IrisBlock(\n",
       "      (convAct): Sequential(\n",
       "        (0): Conv2d(128, 64, kernel_size=(1, 1), stride=(1, 1))\n",
       "        (1): PReLU(num_parameters=64)\n",
       "      )\n",
       "      (dwConvConv): Sequential(\n",
       "        (0): Conv2d(64, 64, kernel_size=(3, 3), stride=(1, 1), padding=(1, 1), groups=64)\n",
       "        (1): Conv2d(64, 128, kernel_size=(1, 1), stride=(1, 1))\n",
       "      )\n",
       "      (act): PReLU(num_parameters=128)\n",
       "    )\n",
       "    (5): IrisBlock(\n",
       "      (max_pool): MaxPool2d(kernel_size=2, stride=2, padding=0, dilation=1, ceil_mode=False)\n",
       "      (convAct): Sequential(\n",
       "        (0): Conv2d(128, 64, kernel_size=(2, 2), stride=(2, 2))\n",
       "        (1): PReLU(num_parameters=64)\n",
       "      )\n",
       "      (dwConvConv): Sequential(\n",
       "        (0): Conv2d(64, 64, kernel_size=(3, 3), stride=(1, 1), padding=(1, 1), groups=64)\n",
       "        (1): Conv2d(64, 128, kernel_size=(1, 1), stride=(1, 1))\n",
       "      )\n",
       "      (act): PReLU(num_parameters=128)\n",
       "    )\n",
       "    (6): IrisBlock(\n",
       "      (convAct): Sequential(\n",
       "        (0): Conv2d(128, 64, kernel_size=(1, 1), stride=(1, 1))\n",
       "        (1): PReLU(num_parameters=64)\n",
       "      )\n",
       "      (dwConvConv): Sequential(\n",
       "        (0): Conv2d(64, 64, kernel_size=(3, 3), stride=(1, 1), padding=(1, 1), groups=64)\n",
       "        (1): Conv2d(64, 128, kernel_size=(1, 1), stride=(1, 1))\n",
       "      )\n",
       "      (act): PReLU(num_parameters=128)\n",
       "    )\n",
       "    (7): IrisBlock(\n",
       "      (convAct): Sequential(\n",
       "        (0): Conv2d(128, 64, kernel_size=(1, 1), stride=(1, 1))\n",
       "        (1): PReLU(num_parameters=64)\n",
       "      )\n",
       "      (dwConvConv): Sequential(\n",
       "        (0): Conv2d(64, 64, kernel_size=(3, 3), stride=(1, 1), padding=(1, 1), groups=64)\n",
       "        (1): Conv2d(64, 128, kernel_size=(1, 1), stride=(1, 1))\n",
       "      )\n",
       "      (act): PReLU(num_parameters=128)\n",
       "    )\n",
       "    (8): Conv2d(128, 213, kernel_size=(2, 2), stride=(1, 1))\n",
       "  )\n",
       "  (split_iris): Sequential(\n",
       "    (0): IrisBlock(\n",
       "      (convAct): Sequential(\n",
       "        (0): Conv2d(128, 64, kernel_size=(1, 1), stride=(1, 1))\n",
       "        (1): PReLU(num_parameters=64)\n",
       "      )\n",
       "      (dwConvConv): Sequential(\n",
       "        (0): Conv2d(64, 64, kernel_size=(3, 3), stride=(1, 1), padding=(1, 1), groups=64)\n",
       "        (1): Conv2d(64, 128, kernel_size=(1, 1), stride=(1, 1))\n",
       "      )\n",
       "      (act): PReLU(num_parameters=128)\n",
       "    )\n",
       "    (1): IrisBlock(\n",
       "      (convAct): Sequential(\n",
       "        (0): Conv2d(128, 64, kernel_size=(1, 1), stride=(1, 1))\n",
       "        (1): PReLU(num_parameters=64)\n",
       "      )\n",
       "      (dwConvConv): Sequential(\n",
       "        (0): Conv2d(64, 64, kernel_size=(3, 3), stride=(1, 1), padding=(1, 1), groups=64)\n",
       "        (1): Conv2d(64, 128, kernel_size=(1, 1), stride=(1, 1))\n",
       "      )\n",
       "      (act): PReLU(num_parameters=128)\n",
       "    )\n",
       "    (2): IrisBlock(\n",
       "      (max_pool): MaxPool2d(kernel_size=2, stride=2, padding=0, dilation=1, ceil_mode=False)\n",
       "      (convAct): Sequential(\n",
       "        (0): Conv2d(128, 64, kernel_size=(2, 2), stride=(2, 2))\n",
       "        (1): PReLU(num_parameters=64)\n",
       "      )\n",
       "      (dwConvConv): Sequential(\n",
       "        (0): Conv2d(64, 64, kernel_size=(3, 3), stride=(1, 1), padding=(1, 1), groups=64)\n",
       "        (1): Conv2d(64, 128, kernel_size=(1, 1), stride=(1, 1))\n",
       "      )\n",
       "      (act): PReLU(num_parameters=128)\n",
       "    )\n",
       "    (3): IrisBlock(\n",
       "      (convAct): Sequential(\n",
       "        (0): Conv2d(128, 64, kernel_size=(1, 1), stride=(1, 1))\n",
       "        (1): PReLU(num_parameters=64)\n",
       "      )\n",
       "      (dwConvConv): Sequential(\n",
       "        (0): Conv2d(64, 64, kernel_size=(3, 3), stride=(1, 1), padding=(1, 1), groups=64)\n",
       "        (1): Conv2d(64, 128, kernel_size=(1, 1), stride=(1, 1))\n",
       "      )\n",
       "      (act): PReLU(num_parameters=128)\n",
       "    )\n",
       "    (4): IrisBlock(\n",
       "      (convAct): Sequential(\n",
       "        (0): Conv2d(128, 64, kernel_size=(1, 1), stride=(1, 1))\n",
       "        (1): PReLU(num_parameters=64)\n",
       "      )\n",
       "      (dwConvConv): Sequential(\n",
       "        (0): Conv2d(64, 64, kernel_size=(3, 3), stride=(1, 1), padding=(1, 1), groups=64)\n",
       "        (1): Conv2d(64, 128, kernel_size=(1, 1), stride=(1, 1))\n",
       "      )\n",
       "      (act): PReLU(num_parameters=128)\n",
       "    )\n",
       "    (5): IrisBlock(\n",
       "      (max_pool): MaxPool2d(kernel_size=2, stride=2, padding=0, dilation=1, ceil_mode=False)\n",
       "      (convAct): Sequential(\n",
       "        (0): Conv2d(128, 64, kernel_size=(2, 2), stride=(2, 2))\n",
       "        (1): PReLU(num_parameters=64)\n",
       "      )\n",
       "      (dwConvConv): Sequential(\n",
       "        (0): Conv2d(64, 64, kernel_size=(3, 3), stride=(1, 1), padding=(1, 1), groups=64)\n",
       "        (1): Conv2d(64, 128, kernel_size=(1, 1), stride=(1, 1))\n",
       "      )\n",
       "      (act): PReLU(num_parameters=128)\n",
       "    )\n",
       "    (6): IrisBlock(\n",
       "      (convAct): Sequential(\n",
       "        (0): Conv2d(128, 64, kernel_size=(1, 1), stride=(1, 1))\n",
       "        (1): PReLU(num_parameters=64)\n",
       "      )\n",
       "      (dwConvConv): Sequential(\n",
       "        (0): Conv2d(64, 64, kernel_size=(3, 3), stride=(1, 1), padding=(1, 1), groups=64)\n",
       "        (1): Conv2d(64, 128, kernel_size=(1, 1), stride=(1, 1))\n",
       "      )\n",
       "      (act): PReLU(num_parameters=128)\n",
       "    )\n",
       "    (7): IrisBlock(\n",
       "      (convAct): Sequential(\n",
       "        (0): Conv2d(128, 64, kernel_size=(1, 1), stride=(1, 1))\n",
       "        (1): PReLU(num_parameters=64)\n",
       "      )\n",
       "      (dwConvConv): Sequential(\n",
       "        (0): Conv2d(64, 64, kernel_size=(3, 3), stride=(1, 1), padding=(1, 1), groups=64)\n",
       "        (1): Conv2d(64, 128, kernel_size=(1, 1), stride=(1, 1))\n",
       "      )\n",
       "      (act): PReLU(num_parameters=128)\n",
       "    )\n",
       "    (8): Conv2d(128, 15, kernel_size=(2, 2), stride=(1, 1))\n",
       "  )\n",
       ")"
      ]
     },
     "metadata": {},
     "execution_count": 13
    }
   ],
   "source": [
    "net"
   ]
  },
  {
   "cell_type": "code",
   "execution_count": 14,
   "metadata": {},
   "outputs": [
    {
     "output_type": "execute_result",
     "data": {
      "text/plain": [
       "torch.Size([2, 213])"
      ]
     },
     "metadata": {},
     "execution_count": 14
    }
   ],
   "source": [
    "net(torch.randn(2,3,64,64))[0].shape"
   ]
  },
  {
   "cell_type": "markdown",
   "metadata": {},
   "source": [
    "Make a lookup table that maps the layer names between the two models. We're going to assume here that the tensors will be in the same order in both models. If not, we should get an error because shapes don't match."
   ]
  },
  {
   "cell_type": "code",
   "execution_count": 15,
   "metadata": {},
   "outputs": [
    {
     "output_type": "execute_result",
     "data": {
      "text/plain": [
       "['conv2d/Kernel',\n",
       " 'conv2d/Bias',\n",
       " 'p_re_lu/Alpha',\n",
       " 'conv2d_1/Kernel',\n",
       " 'conv2d_1/Bias']"
      ]
     },
     "metadata": {},
     "execution_count": 15
    }
   ],
   "source": [
    "probable_names = []\n",
    "for i in range(0, subgraph.TensorsLength()):\n",
    "    tensor = subgraph.Tensors(i)\n",
    "    if tensor.Buffer() > 0 and tensor.Type() == 0:\n",
    "        probable_names.append(tensor.Name().decode(\"utf-8\"))\n",
    "        \n",
    "probable_names[:5]"
   ]
  },
  {
   "cell_type": "code",
   "execution_count": 16,
   "metadata": {},
   "outputs": [
    {
     "output_type": "execute_result",
     "data": {
      "text/plain": [
       "215"
      ]
     },
     "metadata": {},
     "execution_count": 16
    }
   ],
   "source": [
    "len(probable_names)"
   ]
  },
  {
   "cell_type": "code",
   "execution_count": 17,
   "metadata": {},
   "outputs": [],
   "source": [
    "from pprint import pprint"
   ]
  },
  {
   "cell_type": "code",
   "execution_count": 18,
   "metadata": {},
   "outputs": [
    {
     "output_type": "stream",
     "name": "stdout",
     "text": [
      "[('conv2d/Kernel', 'backbone.0.weight'),\n ('conv2d/Bias', 'backbone.0.bias'),\n ('p_re_lu/Alpha', 'backbone.1.weight'),\n ('conv2d_1/Kernel', 'backbone.2.convAct.0.weight'),\n ('conv2d_1/Bias', 'backbone.2.convAct.0.bias'),\n ('p_re_lu_1/Alpha', 'backbone.2.convAct.1.weight'),\n ('depthwise_conv2d/Kernel', 'backbone.2.dwConvConv.0.weight'),\n ('depthwise_conv2d/Bias', 'backbone.2.dwConvConv.0.bias'),\n ('conv2d_2/Kernel', 'backbone.2.dwConvConv.1.weight'),\n ('conv2d_2/Bias', 'backbone.2.dwConvConv.1.bias'),\n ('p_re_lu_2/Alpha', 'backbone.2.act.weight'),\n ('conv2d_3/Kernel', 'backbone.3.convAct.0.weight'),\n ('conv2d_3/Bias', 'backbone.3.convAct.0.bias'),\n ('p_re_lu_3/Alpha', 'backbone.3.convAct.1.weight'),\n ('depthwise_conv2d_1/Kernel', 'backbone.3.dwConvConv.0.weight'),\n ('depthwise_conv2d_1/Bias', 'backbone.3.dwConvConv.0.bias'),\n ('conv2d_4/Kernel', 'backbone.3.dwConvConv.1.weight'),\n ('conv2d_4/Bias', 'backbone.3.dwConvConv.1.bias'),\n ('p_re_lu_4/Alpha', 'backbone.3.act.weight'),\n ('conv2d_5/Kernel', 'backbone.4.convAct.0.weight'),\n ('conv2d_5/Bias', 'backbone.4.convAct.0.bias'),\n ('p_re_lu_5/Alpha', 'backbone.4.convAct.1.weight'),\n ('depthwise_conv2d_2/Kernel', 'backbone.4.dwConvConv.0.weight'),\n ('depthwise_conv2d_2/Bias', 'backbone.4.dwConvConv.0.bias'),\n ('conv2d_6/Kernel', 'backbone.4.dwConvConv.1.weight'),\n ('conv2d_6/Bias', 'backbone.4.dwConvConv.1.bias'),\n ('p_re_lu_6/Alpha', 'backbone.4.act.weight'),\n ('conv2d_7/Kernel', 'backbone.5.convAct.0.weight'),\n ('conv2d_7/Bias', 'backbone.5.convAct.0.bias'),\n ('p_re_lu_7/Alpha', 'backbone.5.convAct.1.weight'),\n ('depthwise_conv2d_3/Kernel', 'backbone.5.dwConvConv.0.weight'),\n ('depthwise_conv2d_3/Bias', 'backbone.5.dwConvConv.0.bias'),\n ('conv2d_8/Kernel', 'backbone.5.dwConvConv.1.weight'),\n ('conv2d_8/Bias', 'backbone.5.dwConvConv.1.bias'),\n ('p_re_lu_8/Alpha', 'backbone.5.act.weight'),\n ('conv2d_9/Kernel', 'backbone.6.convAct.0.weight'),\n ('conv2d_9/Bias', 'backbone.6.convAct.0.bias'),\n ('p_re_lu_9/Alpha', 'backbone.6.convAct.1.weight'),\n ('depthwise_conv2d_4/Kernel', 'backbone.6.dwConvConv.0.weight'),\n ('depthwise_conv2d_4/Bias', 'backbone.6.dwConvConv.0.bias'),\n ('conv2d_10/Kernel', 'backbone.6.dwConvConv.1.weight'),\n ('conv2d_10/Bias', 'backbone.6.dwConvConv.1.bias'),\n ('p_re_lu_10/Alpha', 'backbone.6.act.weight'),\n ('conv2d_11/Kernel', 'backbone.7.convAct.0.weight'),\n ('conv2d_11/Bias', 'backbone.7.convAct.0.bias'),\n ('p_re_lu_11/Alpha', 'backbone.7.convAct.1.weight'),\n ('depthwise_conv2d_5/Kernel', 'backbone.7.dwConvConv.0.weight'),\n ('depthwise_conv2d_5/Bias', 'backbone.7.dwConvConv.0.bias'),\n ('conv2d_12/Kernel', 'backbone.7.dwConvConv.1.weight'),\n ('conv2d_12/Bias', 'backbone.7.dwConvConv.1.bias'),\n ('p_re_lu_12/Alpha', 'backbone.7.act.weight'),\n ('conv2d_13/Kernel', 'backbone.8.convAct.0.weight'),\n ('conv2d_13/Bias', 'backbone.8.convAct.0.bias'),\n ('p_re_lu_13/Alpha', 'backbone.8.convAct.1.weight'),\n ('depthwise_conv2d_6/Kernel', 'backbone.8.dwConvConv.0.weight'),\n ('depthwise_conv2d_6/Bias', 'backbone.8.dwConvConv.0.bias'),\n ('conv2d_14/Kernel', 'backbone.8.dwConvConv.1.weight'),\n ('conv2d_14/Bias', 'backbone.8.dwConvConv.1.bias'),\n ('p_re_lu_14/Alpha', 'backbone.8.act.weight'),\n ('conv2d_15/Kernel', 'backbone.9.convAct.0.weight'),\n ('conv2d_15/Bias', 'backbone.9.convAct.0.bias'),\n ('p_re_lu_15/Alpha', 'backbone.9.convAct.1.weight'),\n ('depthwise_conv2d_7/Kernel', 'backbone.9.dwConvConv.0.weight'),\n ('depthwise_conv2d_7/Bias', 'backbone.9.dwConvConv.0.bias'),\n ('conv2d_16/Kernel', 'backbone.9.dwConvConv.1.weight'),\n ('conv2d_16/Bias', 'backbone.9.dwConvConv.1.bias'),\n ('p_re_lu_16/Alpha', 'backbone.9.act.weight'),\n ('conv2d_17/Kernel', 'backbone.10.convAct.0.weight'),\n ('conv2d_17/Bias', 'backbone.10.convAct.0.bias'),\n ('p_re_lu_17/Alpha', 'backbone.10.convAct.1.weight'),\n ('depthwise_conv2d_8/Kernel', 'backbone.10.dwConvConv.0.weight'),\n ('depthwise_conv2d_8/Bias', 'backbone.10.dwConvConv.0.bias'),\n ('conv2d_18/Kernel', 'backbone.10.dwConvConv.1.weight'),\n ('conv2d_18/Bias', 'backbone.10.dwConvConv.1.bias'),\n ('p_re_lu_18/Alpha', 'backbone.10.act.weight'),\n ('conv2d_19/Kernel', 'backbone.11.convAct.0.weight'),\n ('conv2d_19/Bias', 'backbone.11.convAct.0.bias'),\n ('p_re_lu_19/Alpha', 'backbone.11.convAct.1.weight'),\n ('depthwise_conv2d_9/Kernel', 'backbone.11.dwConvConv.0.weight'),\n ('depthwise_conv2d_9/Bias', 'backbone.11.dwConvConv.0.bias'),\n ('conv2d_20/Kernel', 'backbone.11.dwConvConv.1.weight'),\n ('conv2d_20/Bias', 'backbone.11.dwConvConv.1.bias'),\n ('p_re_lu_20/Alpha', 'backbone.11.act.weight'),\n ('conv2d_21/Kernel', 'split_eye.0.convAct.0.weight'),\n ('conv2d_21/Bias', 'split_eye.0.convAct.0.bias'),\n ('conv2d_37/Kernel', 'split_eye.0.convAct.1.weight'),\n ('conv2d_37/Bias', 'split_eye.0.dwConvConv.0.weight'),\n ('p_re_lu_21/Alpha', 'split_eye.0.dwConvConv.0.bias'),\n ('p_re_lu_37/Alpha', 'split_eye.0.dwConvConv.1.weight'),\n ('depthwise_conv2d_10/Kernel', 'split_eye.0.dwConvConv.1.bias'),\n ('depthwise_conv2d_10/Bias', 'split_eye.0.act.weight'),\n ('depthwise_conv2d_18/Kernel', 'split_eye.1.convAct.0.weight'),\n ('depthwise_conv2d_18/Bias', 'split_eye.1.convAct.0.bias'),\n ('conv2d_22/Kernel', 'split_eye.1.convAct.1.weight'),\n ('conv2d_22/Bias', 'split_eye.1.dwConvConv.0.weight'),\n ('conv2d_38/Kernel', 'split_eye.1.dwConvConv.0.bias'),\n ('conv2d_38/Bias', 'split_eye.1.dwConvConv.1.weight'),\n ('p_re_lu_22/Alpha', 'split_eye.1.dwConvConv.1.bias'),\n ('p_re_lu_38/Alpha', 'split_eye.1.act.weight'),\n ('conv2d_23/Kernel', 'split_eye.2.convAct.0.weight'),\n ('conv2d_23/Bias', 'split_eye.2.convAct.0.bias'),\n ('conv2d_39/Kernel', 'split_eye.2.convAct.1.weight'),\n ('conv2d_39/Bias', 'split_eye.2.dwConvConv.0.weight'),\n ('p_re_lu_23/Alpha', 'split_eye.2.dwConvConv.0.bias'),\n ('p_re_lu_39/Alpha', 'split_eye.2.dwConvConv.1.weight'),\n ('depthwise_conv2d_11/Kernel', 'split_eye.2.dwConvConv.1.bias'),\n ('depthwise_conv2d_11/Bias', 'split_eye.2.act.weight'),\n ('depthwise_conv2d_19/Kernel', 'split_eye.3.convAct.0.weight'),\n ('depthwise_conv2d_19/Bias', 'split_eye.3.convAct.0.bias'),\n ('conv2d_24/Kernel', 'split_eye.3.convAct.1.weight'),\n ('conv2d_24/Bias', 'split_eye.3.dwConvConv.0.weight'),\n ('conv2d_40/Kernel', 'split_eye.3.dwConvConv.0.bias'),\n ('conv2d_40/Bias', 'split_eye.3.dwConvConv.1.weight'),\n ('p_re_lu_24/Alpha', 'split_eye.3.dwConvConv.1.bias'),\n ('p_re_lu_40/Alpha', 'split_eye.3.act.weight'),\n ('conv2d_25/Kernel', 'split_eye.4.convAct.0.weight'),\n ('conv2d_25/Bias', 'split_eye.4.convAct.0.bias'),\n ('conv2d_41/Kernel', 'split_eye.4.convAct.1.weight'),\n ('conv2d_41/Bias', 'split_eye.4.dwConvConv.0.weight'),\n ('p_re_lu_25/Alpha', 'split_eye.4.dwConvConv.0.bias'),\n ('p_re_lu_41/Alpha', 'split_eye.4.dwConvConv.1.weight'),\n ('depthwise_conv2d_12/Kernel', 'split_eye.4.dwConvConv.1.bias'),\n ('depthwise_conv2d_12/Bias', 'split_eye.4.act.weight'),\n ('depthwise_conv2d_20/Kernel', 'split_eye.5.convAct.0.weight'),\n ('depthwise_conv2d_20/Bias', 'split_eye.5.convAct.0.bias'),\n ('conv2d_26/Kernel', 'split_eye.5.convAct.1.weight'),\n ('conv2d_26/Bias', 'split_eye.5.dwConvConv.0.weight'),\n ('conv2d_42/Kernel', 'split_eye.5.dwConvConv.0.bias'),\n ('conv2d_42/Bias', 'split_eye.5.dwConvConv.1.weight'),\n ('p_re_lu_26/Alpha', 'split_eye.5.dwConvConv.1.bias'),\n ('p_re_lu_42/Alpha', 'split_eye.5.act.weight'),\n ('conv2d_27/Kernel', 'split_eye.6.convAct.0.weight'),\n ('conv2d_27/Bias', 'split_eye.6.convAct.0.bias'),\n ('conv2d_43/Kernel', 'split_eye.6.convAct.1.weight'),\n ('conv2d_43/Bias', 'split_eye.6.dwConvConv.0.weight'),\n ('p_re_lu_27/Alpha', 'split_eye.6.dwConvConv.0.bias'),\n ('p_re_lu_43/Alpha', 'split_eye.6.dwConvConv.1.weight'),\n ('depthwise_conv2d_13/Kernel', 'split_eye.6.dwConvConv.1.bias'),\n ('depthwise_conv2d_13/Bias', 'split_eye.6.act.weight'),\n ('depthwise_conv2d_21/Kernel', 'split_eye.7.convAct.0.weight'),\n ('depthwise_conv2d_21/Bias', 'split_eye.7.convAct.0.bias'),\n ('conv2d_28/Kernel', 'split_eye.7.convAct.1.weight'),\n ('conv2d_28/Bias', 'split_eye.7.dwConvConv.0.weight'),\n ('conv2d_44/Kernel', 'split_eye.7.dwConvConv.0.bias'),\n ('conv2d_44/Bias', 'split_eye.7.dwConvConv.1.weight'),\n ('p_re_lu_28/Alpha', 'split_eye.7.dwConvConv.1.bias'),\n ('p_re_lu_44/Alpha', 'split_eye.7.act.weight'),\n ('conv2d_29/Kernel', 'split_eye.8.weight'),\n ('conv2d_29/Bias', 'split_eye.8.bias'),\n ('conv2d_45/Kernel', 'split_iris.0.convAct.0.weight'),\n ('conv2d_45/Bias', 'split_iris.0.convAct.0.bias'),\n ('p_re_lu_29/Alpha', 'split_iris.0.convAct.1.weight'),\n ('p_re_lu_45/Alpha', 'split_iris.0.dwConvConv.0.weight'),\n ('depthwise_conv2d_14/Kernel', 'split_iris.0.dwConvConv.0.bias'),\n ('depthwise_conv2d_14/Bias', 'split_iris.0.dwConvConv.1.weight'),\n ('depthwise_conv2d_22/Kernel', 'split_iris.0.dwConvConv.1.bias'),\n ('depthwise_conv2d_22/Bias', 'split_iris.0.act.weight'),\n ('conv2d_30/Kernel', 'split_iris.1.convAct.0.weight'),\n ('conv2d_30/Bias', 'split_iris.1.convAct.0.bias'),\n ('conv2d_46/Kernel', 'split_iris.1.convAct.1.weight'),\n ('conv2d_46/Bias', 'split_iris.1.dwConvConv.0.weight'),\n ('p_re_lu_30/Alpha', 'split_iris.1.dwConvConv.0.bias'),\n ('p_re_lu_46/Alpha', 'split_iris.1.dwConvConv.1.weight'),\n ('conv2d_31/Kernel', 'split_iris.1.dwConvConv.1.bias'),\n ('conv2d_31/Bias', 'split_iris.1.act.weight'),\n ('conv2d_47/Kernel', 'split_iris.2.convAct.0.weight'),\n ('conv2d_47/Bias', 'split_iris.2.convAct.0.bias'),\n ('p_re_lu_31/Alpha', 'split_iris.2.convAct.1.weight'),\n ('p_re_lu_47/Alpha', 'split_iris.2.dwConvConv.0.weight'),\n ('depthwise_conv2d_15/Kernel', 'split_iris.2.dwConvConv.0.bias'),\n ('depthwise_conv2d_15/Bias', 'split_iris.2.dwConvConv.1.weight'),\n ('depthwise_conv2d_23/Kernel', 'split_iris.2.dwConvConv.1.bias'),\n ('depthwise_conv2d_23/Bias', 'split_iris.2.act.weight'),\n ('conv2d_32/Kernel', 'split_iris.3.convAct.0.weight'),\n ('conv2d_32/Bias', 'split_iris.3.convAct.0.bias'),\n ('conv2d_48/Kernel', 'split_iris.3.convAct.1.weight'),\n ('conv2d_48/Bias', 'split_iris.3.dwConvConv.0.weight'),\n ('p_re_lu_32/Alpha', 'split_iris.3.dwConvConv.0.bias'),\n ('p_re_lu_48/Alpha', 'split_iris.3.dwConvConv.1.weight'),\n ('conv2d_33/Kernel', 'split_iris.3.dwConvConv.1.bias'),\n ('conv2d_33/Bias', 'split_iris.3.act.weight'),\n ('conv2d_49/Kernel', 'split_iris.4.convAct.0.weight'),\n ('conv2d_49/Bias', 'split_iris.4.convAct.0.bias'),\n ('p_re_lu_33/Alpha', 'split_iris.4.convAct.1.weight'),\n ('p_re_lu_49/Alpha', 'split_iris.4.dwConvConv.0.weight'),\n ('depthwise_conv2d_16/Kernel', 'split_iris.4.dwConvConv.0.bias'),\n ('depthwise_conv2d_16/Bias', 'split_iris.4.dwConvConv.1.weight'),\n ('depthwise_conv2d_24/Kernel', 'split_iris.4.dwConvConv.1.bias'),\n ('depthwise_conv2d_24/Bias', 'split_iris.4.act.weight'),\n ('conv2d_34/Kernel', 'split_iris.5.convAct.0.weight'),\n ('conv2d_34/Bias', 'split_iris.5.convAct.0.bias'),\n ('conv2d_50/Kernel', 'split_iris.5.convAct.1.weight'),\n ('conv2d_50/Bias', 'split_iris.5.dwConvConv.0.weight'),\n ('p_re_lu_34/Alpha', 'split_iris.5.dwConvConv.0.bias'),\n ('p_re_lu_50/Alpha', 'split_iris.5.dwConvConv.1.weight'),\n ('conv2d_35/Kernel', 'split_iris.5.dwConvConv.1.bias'),\n ('conv2d_35/Bias', 'split_iris.5.act.weight'),\n ('conv2d_51/Kernel', 'split_iris.6.convAct.0.weight'),\n ('conv2d_51/Bias', 'split_iris.6.convAct.0.bias'),\n ('p_re_lu_35/Alpha', 'split_iris.6.convAct.1.weight'),\n ('p_re_lu_51/Alpha', 'split_iris.6.dwConvConv.0.weight'),\n ('depthwise_conv2d_17/Kernel', 'split_iris.6.dwConvConv.0.bias'),\n ('depthwise_conv2d_17/Bias', 'split_iris.6.dwConvConv.1.weight'),\n ('depthwise_conv2d_25/Kernel', 'split_iris.6.dwConvConv.1.bias'),\n ('depthwise_conv2d_25/Bias', 'split_iris.6.act.weight'),\n ('conv2d_36/Kernel', 'split_iris.7.convAct.0.weight'),\n ('conv2d_36/Bias', 'split_iris.7.convAct.0.bias'),\n ('conv2d_52/Kernel', 'split_iris.7.convAct.1.weight'),\n ('conv2d_52/Bias', 'split_iris.7.dwConvConv.0.weight'),\n ('p_re_lu_36/Alpha', 'split_iris.7.dwConvConv.0.bias'),\n ('p_re_lu_52/Alpha', 'split_iris.7.dwConvConv.1.weight'),\n ('conv_eyes_contours_and_brows/Kernel', 'split_iris.7.dwConvConv.1.bias'),\n ('conv_eyes_contours_and_brows/Bias', 'split_iris.7.act.weight'),\n ('conv_iris/Kernel', 'split_iris.8.weight'),\n ('conv_iris/Bias', 'split_iris.8.bias')]\n"
     ]
    }
   ],
   "source": [
    "pprint(list(zip(probable_names, net.state_dict())))"
   ]
  },
  {
   "cell_type": "code",
   "execution_count": 19,
   "metadata": {},
   "outputs": [
    {
     "output_type": "execute_result",
     "data": {
      "text/plain": [
       "(215, 215)"
      ]
     },
     "metadata": {},
     "execution_count": 19
    }
   ],
   "source": [
    "len(net.state_dict()), len(probable_names)"
   ]
  },
  {
   "cell_type": "code",
   "execution_count": 20,
   "metadata": {},
   "outputs": [],
   "source": [
    "convert = {}\n",
    "i = 0\n",
    "for name, params in net.state_dict().items():\n",
    "    if i < 85:\n",
    "        convert[name] = probable_names[i]\n",
    "        i += 1"
   ]
  },
  {
   "cell_type": "code",
   "execution_count": 21,
   "metadata": {},
   "outputs": [],
   "source": [
    "import ast\n",
    "manual_mapping = ast.literal_eval(open(\"conversion_dict.txt\", \"r\").read())\n",
    "\n",
    "convert.update(manual_mapping)"
   ]
  },
  {
   "cell_type": "markdown",
   "metadata": {},
   "source": [
    "Copy the weights into the layers.\n",
    "\n",
    "Note that the ordering of the weights is different between PyTorch and TFLite, so we need to transpose them.\n",
    "\n",
    "Convolution weights:\n",
    "\n",
    "    TFLite:  (out_channels, kernel_height, kernel_width, in_channels)\n",
    "    PyTorch: (out_channels, in_channels, kernel_height, kernel_width)\n",
    "\n",
    "Depthwise convolution weights:\n",
    "\n",
    "    TFLite:  (1, kernel_height, kernel_width, channels)\n",
    "    PyTorch: (channels, 1, kernel_height, kernel_width)\n",
    "    \n",
    "PReLU:\n",
    "\n",
    "    TFLite:  (1, 1, num_channels)\n",
    "    PyTorch: (num_channels, )\n"
   ]
  },
  {
   "cell_type": "code",
   "execution_count": 22,
   "metadata": {},
   "outputs": [
    {
     "output_type": "stream",
     "name": "stdout",
     "text": [
      "backbone.0.weight conv2d/Kernel (64, 3, 3, 3) torch.Size([64, 3, 3, 3])\n",
      "backbone.0.bias conv2d/Bias (64,) torch.Size([64])\n",
      "backbone.1.weight p_re_lu/Alpha (1, 1, 64) torch.Size([64])\n",
      "backbone.2.convAct.0.weight conv2d_1/Kernel (32, 1, 1, 64) torch.Size([32, 64, 1, 1])\n",
      "backbone.2.convAct.0.bias conv2d_1/Bias (32,) torch.Size([32])\n",
      "backbone.2.convAct.1.weight p_re_lu_1/Alpha (1, 1, 32) torch.Size([32])\n",
      "backbone.2.dwConvConv.0.weight depthwise_conv2d/Kernel (1, 3, 3, 32) torch.Size([32, 1, 3, 3])\n",
      "backbone.2.dwConvConv.0.bias depthwise_conv2d/Bias (32,) torch.Size([32])\n",
      "backbone.2.dwConvConv.1.weight conv2d_2/Kernel (64, 1, 1, 32) torch.Size([64, 32, 1, 1])\n",
      "backbone.2.dwConvConv.1.bias conv2d_2/Bias (64,) torch.Size([64])\n",
      "backbone.2.act.weight p_re_lu_2/Alpha (1, 1, 64) torch.Size([64])\n",
      "backbone.3.convAct.0.weight conv2d_3/Kernel (32, 1, 1, 64) torch.Size([32, 64, 1, 1])\n",
      "backbone.3.convAct.0.bias conv2d_3/Bias (32,) torch.Size([32])\n",
      "backbone.3.convAct.1.weight p_re_lu_3/Alpha (1, 1, 32) torch.Size([32])\n",
      "backbone.3.dwConvConv.0.weight depthwise_conv2d_1/Kernel (1, 3, 3, 32) torch.Size([32, 1, 3, 3])\n",
      "backbone.3.dwConvConv.0.bias depthwise_conv2d_1/Bias (32,) torch.Size([32])\n",
      "backbone.3.dwConvConv.1.weight conv2d_4/Kernel (64, 1, 1, 32) torch.Size([64, 32, 1, 1])\n",
      "backbone.3.dwConvConv.1.bias conv2d_4/Bias (64,) torch.Size([64])\n",
      "backbone.3.act.weight p_re_lu_4/Alpha (1, 1, 64) torch.Size([64])\n",
      "backbone.4.convAct.0.weight conv2d_5/Kernel (32, 1, 1, 64) torch.Size([32, 64, 1, 1])\n",
      "backbone.4.convAct.0.bias conv2d_5/Bias (32,) torch.Size([32])\n",
      "backbone.4.convAct.1.weight p_re_lu_5/Alpha (1, 1, 32) torch.Size([32])\n",
      "backbone.4.dwConvConv.0.weight depthwise_conv2d_2/Kernel (1, 3, 3, 32) torch.Size([32, 1, 3, 3])\n",
      "backbone.4.dwConvConv.0.bias depthwise_conv2d_2/Bias (32,) torch.Size([32])\n",
      "backbone.4.dwConvConv.1.weight conv2d_6/Kernel (64, 1, 1, 32) torch.Size([64, 32, 1, 1])\n",
      "backbone.4.dwConvConv.1.bias conv2d_6/Bias (64,) torch.Size([64])\n",
      "backbone.4.act.weight p_re_lu_6/Alpha (1, 1, 64) torch.Size([64])\n",
      "backbone.5.convAct.0.weight conv2d_7/Kernel (32, 1, 1, 64) torch.Size([32, 64, 1, 1])\n",
      "backbone.5.convAct.0.bias conv2d_7/Bias (32,) torch.Size([32])\n",
      "backbone.5.convAct.1.weight p_re_lu_7/Alpha (1, 1, 32) torch.Size([32])\n",
      "backbone.5.dwConvConv.0.weight depthwise_conv2d_3/Kernel (1, 3, 3, 32) torch.Size([32, 1, 3, 3])\n",
      "backbone.5.dwConvConv.0.bias depthwise_conv2d_3/Bias (32,) torch.Size([32])\n",
      "backbone.5.dwConvConv.1.weight conv2d_8/Kernel (64, 1, 1, 32) torch.Size([64, 32, 1, 1])\n",
      "backbone.5.dwConvConv.1.bias conv2d_8/Bias (64,) torch.Size([64])\n",
      "backbone.5.act.weight p_re_lu_8/Alpha (1, 1, 64) torch.Size([64])\n",
      "backbone.6.convAct.0.weight conv2d_9/Kernel (64, 2, 2, 64) torch.Size([64, 64, 2, 2])\n",
      "backbone.6.convAct.0.bias conv2d_9/Bias (64,) torch.Size([64])\n",
      "backbone.6.convAct.1.weight p_re_lu_9/Alpha (1, 1, 64) torch.Size([64])\n",
      "backbone.6.dwConvConv.0.weight depthwise_conv2d_4/Kernel (1, 3, 3, 64) torch.Size([64, 1, 3, 3])\n",
      "backbone.6.dwConvConv.0.bias depthwise_conv2d_4/Bias (64,) torch.Size([64])\n",
      "backbone.6.dwConvConv.1.weight conv2d_10/Kernel (128, 1, 1, 64) torch.Size([128, 64, 1, 1])\n",
      "backbone.6.dwConvConv.1.bias conv2d_10/Bias (128,) torch.Size([128])\n",
      "backbone.6.act.weight p_re_lu_10/Alpha (1, 1, 128) torch.Size([128])\n",
      "backbone.7.convAct.0.weight conv2d_11/Kernel (64, 1, 1, 128) torch.Size([64, 128, 1, 1])\n",
      "backbone.7.convAct.0.bias conv2d_11/Bias (64,) torch.Size([64])\n",
      "backbone.7.convAct.1.weight p_re_lu_11/Alpha (1, 1, 64) torch.Size([64])\n",
      "backbone.7.dwConvConv.0.weight depthwise_conv2d_5/Kernel (1, 3, 3, 64) torch.Size([64, 1, 3, 3])\n",
      "backbone.7.dwConvConv.0.bias depthwise_conv2d_5/Bias (64,) torch.Size([64])\n",
      "backbone.7.dwConvConv.1.weight conv2d_12/Kernel (128, 1, 1, 64) torch.Size([128, 64, 1, 1])\n",
      "backbone.7.dwConvConv.1.bias conv2d_12/Bias (128,) torch.Size([128])\n",
      "backbone.7.act.weight p_re_lu_12/Alpha (1, 1, 128) torch.Size([128])\n",
      "backbone.8.convAct.0.weight conv2d_13/Kernel (64, 1, 1, 128) torch.Size([64, 128, 1, 1])\n",
      "backbone.8.convAct.0.bias conv2d_13/Bias (64,) torch.Size([64])\n",
      "backbone.8.convAct.1.weight p_re_lu_13/Alpha (1, 1, 64) torch.Size([64])\n",
      "backbone.8.dwConvConv.0.weight depthwise_conv2d_6/Kernel (1, 3, 3, 64) torch.Size([64, 1, 3, 3])\n",
      "backbone.8.dwConvConv.0.bias depthwise_conv2d_6/Bias (64,) torch.Size([64])\n",
      "backbone.8.dwConvConv.1.weight conv2d_14/Kernel (128, 1, 1, 64) torch.Size([128, 64, 1, 1])\n",
      "backbone.8.dwConvConv.1.bias conv2d_14/Bias (128,) torch.Size([128])\n",
      "backbone.8.act.weight p_re_lu_14/Alpha (1, 1, 128) torch.Size([128])\n",
      "backbone.9.convAct.0.weight conv2d_15/Kernel (64, 1, 1, 128) torch.Size([64, 128, 1, 1])\n",
      "backbone.9.convAct.0.bias conv2d_15/Bias (64,) torch.Size([64])\n",
      "backbone.9.convAct.1.weight p_re_lu_15/Alpha (1, 1, 64) torch.Size([64])\n",
      "backbone.9.dwConvConv.0.weight depthwise_conv2d_7/Kernel (1, 3, 3, 64) torch.Size([64, 1, 3, 3])\n",
      "backbone.9.dwConvConv.0.bias depthwise_conv2d_7/Bias (64,) torch.Size([64])\n",
      "backbone.9.dwConvConv.1.weight conv2d_16/Kernel (128, 1, 1, 64) torch.Size([128, 64, 1, 1])\n",
      "backbone.9.dwConvConv.1.bias conv2d_16/Bias (128,) torch.Size([128])\n",
      "backbone.9.act.weight p_re_lu_16/Alpha (1, 1, 128) torch.Size([128])\n",
      "backbone.10.convAct.0.weight conv2d_17/Kernel (64, 1, 1, 128) torch.Size([64, 128, 1, 1])\n",
      "backbone.10.convAct.0.bias conv2d_17/Bias (64,) torch.Size([64])\n",
      "backbone.10.convAct.1.weight p_re_lu_17/Alpha (1, 1, 64) torch.Size([64])\n",
      "backbone.10.dwConvConv.0.weight depthwise_conv2d_8/Kernel (1, 3, 3, 64) torch.Size([64, 1, 3, 3])\n",
      "backbone.10.dwConvConv.0.bias depthwise_conv2d_8/Bias (64,) torch.Size([64])\n",
      "backbone.10.dwConvConv.1.weight conv2d_18/Kernel (128, 1, 1, 64) torch.Size([128, 64, 1, 1])\n",
      "backbone.10.dwConvConv.1.bias conv2d_18/Bias (128,) torch.Size([128])\n",
      "backbone.10.act.weight p_re_lu_18/Alpha (1, 1, 128) torch.Size([128])\n",
      "backbone.11.convAct.0.weight conv2d_19/Kernel (64, 2, 2, 128) torch.Size([64, 128, 2, 2])\n",
      "backbone.11.convAct.0.bias conv2d_19/Bias (64,) torch.Size([64])\n",
      "backbone.11.convAct.1.weight p_re_lu_19/Alpha (1, 1, 64) torch.Size([64])\n",
      "backbone.11.dwConvConv.0.weight depthwise_conv2d_9/Kernel (1, 3, 3, 64) torch.Size([64, 1, 3, 3])\n",
      "backbone.11.dwConvConv.0.bias depthwise_conv2d_9/Bias (64,) torch.Size([64])\n",
      "backbone.11.dwConvConv.1.weight conv2d_20/Kernel (128, 1, 1, 64) torch.Size([128, 64, 1, 1])\n",
      "backbone.11.dwConvConv.1.bias conv2d_20/Bias (128,) torch.Size([128])\n",
      "backbone.11.act.weight p_re_lu_20/Alpha (1, 1, 128) torch.Size([128])\n",
      "split_eye.0.convAct.0.weight conv2d_21/Kernel (64, 1, 1, 128) torch.Size([64, 128, 1, 1])\n",
      "split_eye.0.convAct.0.bias conv2d_21/Bias (64,) torch.Size([64])\n",
      "split_eye.0.convAct.1.weight p_re_lu_21/Alpha (1, 1, 64) torch.Size([64])\n",
      "split_eye.0.dwConvConv.0.weight depthwise_conv2d_10/Kernel (1, 3, 3, 64) torch.Size([64, 1, 3, 3])\n",
      "split_eye.0.dwConvConv.0.bias depthwise_conv2d_10/Bias (64,) torch.Size([64])\n",
      "split_eye.0.dwConvConv.1.weight conv2d_22/Kernel (128, 1, 1, 64) torch.Size([128, 64, 1, 1])\n",
      "split_eye.0.dwConvConv.1.bias conv2d_22/Bias (128,) torch.Size([128])\n",
      "split_eye.0.act.weight p_re_lu_22/Alpha (1, 1, 128) torch.Size([128])\n",
      "split_eye.1.convAct.0.weight conv2d_23/Kernel (64, 1, 1, 128) torch.Size([64, 128, 1, 1])\n",
      "split_eye.1.convAct.0.bias conv2d_23/Bias (64,) torch.Size([64])\n",
      "split_eye.1.convAct.1.weight p_re_lu_23/Alpha (1, 1, 64) torch.Size([64])\n",
      "split_eye.1.dwConvConv.0.weight depthwise_conv2d_11/Kernel (1, 3, 3, 64) torch.Size([64, 1, 3, 3])\n",
      "split_eye.1.dwConvConv.0.bias depthwise_conv2d_11/Bias (64,) torch.Size([64])\n",
      "split_eye.1.dwConvConv.1.weight conv2d_24/Kernel (128, 1, 1, 64) torch.Size([128, 64, 1, 1])\n",
      "split_eye.1.dwConvConv.1.bias conv2d_24/Bias (128,) torch.Size([128])\n",
      "split_eye.1.act.weight p_re_lu_24/Alpha (1, 1, 128) torch.Size([128])\n",
      "split_eye.2.convAct.0.weight conv2d_25/Kernel (64, 2, 2, 128) torch.Size([64, 128, 2, 2])\n",
      "split_eye.2.convAct.0.bias conv2d_25/Bias (64,) torch.Size([64])\n",
      "split_eye.2.convAct.1.weight p_re_lu_25/Alpha (1, 1, 64) torch.Size([64])\n",
      "split_eye.2.dwConvConv.0.weight depthwise_conv2d_12/Kernel (1, 3, 3, 64) torch.Size([64, 1, 3, 3])\n",
      "split_eye.2.dwConvConv.0.bias depthwise_conv2d_12/Bias (64,) torch.Size([64])\n",
      "split_eye.2.dwConvConv.1.weight conv2d_26/Kernel (128, 1, 1, 64) torch.Size([128, 64, 1, 1])\n",
      "split_eye.2.dwConvConv.1.bias conv2d_26/Bias (128,) torch.Size([128])\n",
      "split_eye.2.act.weight p_re_lu_26/Alpha (1, 1, 128) torch.Size([128])\n",
      "split_eye.3.convAct.0.weight conv2d_27/Kernel (64, 1, 1, 128) torch.Size([64, 128, 1, 1])\n",
      "split_eye.3.convAct.0.bias conv2d_27/Bias (64,) torch.Size([64])\n",
      "split_eye.3.convAct.1.weight p_re_lu_27/Alpha (1, 1, 64) torch.Size([64])\n",
      "split_eye.3.dwConvConv.0.weight depthwise_conv2d_13/Kernel (1, 3, 3, 64) torch.Size([64, 1, 3, 3])\n",
      "split_eye.3.dwConvConv.0.bias depthwise_conv2d_13/Bias (64,) torch.Size([64])\n",
      "split_eye.3.dwConvConv.1.weight conv2d_28/Kernel (128, 1, 1, 64) torch.Size([128, 64, 1, 1])\n",
      "split_eye.3.dwConvConv.1.bias conv2d_28/Bias (128,) torch.Size([128])\n",
      "split_eye.3.act.weight p_re_lu_28/Alpha (1, 1, 128) torch.Size([128])\n",
      "split_eye.4.convAct.0.weight conv2d_29/Kernel (64, 1, 1, 128) torch.Size([64, 128, 1, 1])\n",
      "split_eye.4.convAct.0.bias conv2d_29/Bias (64,) torch.Size([64])\n",
      "split_eye.4.convAct.1.weight p_re_lu_29/Alpha (1, 1, 64) torch.Size([64])\n",
      "split_eye.4.dwConvConv.0.weight depthwise_conv2d_14/Kernel (1, 3, 3, 64) torch.Size([64, 1, 3, 3])\n",
      "split_eye.4.dwConvConv.0.bias depthwise_conv2d_14/Bias (64,) torch.Size([64])\n",
      "split_eye.4.dwConvConv.1.weight conv2d_30/Kernel (128, 1, 1, 64) torch.Size([128, 64, 1, 1])\n",
      "split_eye.4.dwConvConv.1.bias conv2d_30/Bias (128,) torch.Size([128])\n",
      "split_eye.4.act.weight p_re_lu_30/Alpha (1, 1, 128) torch.Size([128])\n",
      "split_eye.5.convAct.0.weight conv2d_31/Kernel (64, 2, 2, 128) torch.Size([64, 128, 2, 2])\n",
      "split_eye.5.convAct.0.bias conv2d_31/Bias (64,) torch.Size([64])\n",
      "split_eye.5.convAct.1.weight p_re_lu_31/Alpha (1, 1, 64) torch.Size([64])\n",
      "split_eye.5.dwConvConv.0.weight depthwise_conv2d_15/Kernel (1, 3, 3, 64) torch.Size([64, 1, 3, 3])\n",
      "split_eye.5.dwConvConv.0.bias depthwise_conv2d_15/Bias (64,) torch.Size([64])\n",
      "split_eye.5.dwConvConv.1.weight conv2d_32/Kernel (128, 1, 1, 64) torch.Size([128, 64, 1, 1])\n",
      "split_eye.5.dwConvConv.1.bias conv2d_32/Bias (128,) torch.Size([128])\n",
      "split_eye.5.act.weight p_re_lu_32/Alpha (1, 1, 128) torch.Size([128])\n",
      "split_eye.6.convAct.0.weight conv2d_33/Kernel (64, 1, 1, 128) torch.Size([64, 128, 1, 1])\n",
      "split_eye.6.convAct.0.bias conv2d_33/Bias (64,) torch.Size([64])\n",
      "split_eye.6.convAct.1.weight p_re_lu_33/Alpha (1, 1, 64) torch.Size([64])\n",
      "split_eye.6.dwConvConv.0.weight depthwise_conv2d_16/Kernel (1, 3, 3, 64) torch.Size([64, 1, 3, 3])\n",
      "split_eye.6.dwConvConv.0.bias depthwise_conv2d_16/Bias (64,) torch.Size([64])\n",
      "split_eye.6.dwConvConv.1.weight conv2d_34/Kernel (128, 1, 1, 64) torch.Size([128, 64, 1, 1])\n",
      "split_eye.6.dwConvConv.1.bias conv2d_34/Bias (128,) torch.Size([128])\n",
      "split_eye.6.act.weight p_re_lu_34/Alpha (1, 1, 128) torch.Size([128])\n",
      "split_eye.7.convAct.0.weight conv2d_35/Kernel (64, 1, 1, 128) torch.Size([64, 128, 1, 1])\n",
      "split_eye.7.convAct.0.bias conv2d_35/Bias (64,) torch.Size([64])\n",
      "split_eye.7.convAct.1.weight p_re_lu_35/Alpha (1, 1, 64) torch.Size([64])\n",
      "split_eye.7.dwConvConv.0.weight depthwise_conv2d_17/Kernel (1, 3, 3, 64) torch.Size([64, 1, 3, 3])\n",
      "split_eye.7.dwConvConv.0.bias depthwise_conv2d_17/Bias (64,) torch.Size([64])\n",
      "split_eye.7.dwConvConv.1.weight conv2d_36/Kernel (128, 1, 1, 64) torch.Size([128, 64, 1, 1])\n",
      "split_eye.7.dwConvConv.1.bias conv2d_36/Bias (128,) torch.Size([128])\n",
      "split_eye.7.act.weight p_re_lu_36/Alpha (1, 1, 128) torch.Size([128])\n",
      "split_eye.8.weight conv_eyes_contours_and_brows/Kernel (213, 2, 2, 128) torch.Size([213, 128, 2, 2])\n",
      "split_eye.8.bias conv_eyes_contours_and_brows/Bias (213,) torch.Size([213])\n",
      "split_iris.0.convAct.0.weight conv2d_37/Kernel (64, 1, 1, 128) torch.Size([64, 128, 1, 1])\n",
      "split_iris.0.convAct.0.bias conv2d_37/Bias (64,) torch.Size([64])\n",
      "split_iris.0.convAct.1.weight p_re_lu_37/Alpha (1, 1, 64) torch.Size([64])\n",
      "split_iris.0.dwConvConv.0.weight depthwise_conv2d_18/Kernel (1, 3, 3, 64) torch.Size([64, 1, 3, 3])\n",
      "split_iris.0.dwConvConv.0.bias depthwise_conv2d_18/Bias (64,) torch.Size([64])\n",
      "split_iris.0.dwConvConv.1.weight conv2d_38/Kernel (128, 1, 1, 64) torch.Size([128, 64, 1, 1])\n",
      "split_iris.0.dwConvConv.1.bias conv2d_38/Bias (128,) torch.Size([128])\n",
      "split_iris.0.act.weight p_re_lu_38/Alpha (1, 1, 128) torch.Size([128])\n",
      "split_iris.1.convAct.0.weight conv2d_39/Kernel (64, 1, 1, 128) torch.Size([64, 128, 1, 1])\n",
      "split_iris.1.convAct.0.bias conv2d_39/Bias (64,) torch.Size([64])\n",
      "split_iris.1.convAct.1.weight p_re_lu_39/Alpha (1, 1, 64) torch.Size([64])\n",
      "split_iris.1.dwConvConv.0.weight depthwise_conv2d_19/Kernel (1, 3, 3, 64) torch.Size([64, 1, 3, 3])\n",
      "split_iris.1.dwConvConv.0.bias depthwise_conv2d_19/Bias (64,) torch.Size([64])\n",
      "split_iris.1.dwConvConv.1.weight conv2d_40/Kernel (128, 1, 1, 64) torch.Size([128, 64, 1, 1])\n",
      "split_iris.1.dwConvConv.1.bias conv2d_40/Bias (128,) torch.Size([128])\n",
      "split_iris.1.act.weight p_re_lu_40/Alpha (1, 1, 128) torch.Size([128])\n",
      "split_iris.2.convAct.0.weight conv2d_41/Kernel (64, 2, 2, 128) torch.Size([64, 128, 2, 2])\n",
      "split_iris.2.convAct.0.bias conv2d_41/Bias (64,) torch.Size([64])\n",
      "split_iris.2.convAct.1.weight p_re_lu_41/Alpha (1, 1, 64) torch.Size([64])\n",
      "split_iris.2.dwConvConv.0.weight depthwise_conv2d_20/Kernel (1, 3, 3, 64) torch.Size([64, 1, 3, 3])\n",
      "split_iris.2.dwConvConv.0.bias depthwise_conv2d_20/Bias (64,) torch.Size([64])\n",
      "split_iris.2.dwConvConv.1.weight conv2d_42/Kernel (128, 1, 1, 64) torch.Size([128, 64, 1, 1])\n",
      "split_iris.2.dwConvConv.1.bias conv2d_42/Bias (128,) torch.Size([128])\n",
      "split_iris.2.act.weight p_re_lu_42/Alpha (1, 1, 128) torch.Size([128])\n",
      "split_iris.3.convAct.0.weight conv2d_43/Kernel (64, 1, 1, 128) torch.Size([64, 128, 1, 1])\n",
      "split_iris.3.convAct.0.bias conv2d_43/Bias (64,) torch.Size([64])\n",
      "split_iris.3.convAct.1.weight p_re_lu_43/Alpha (1, 1, 64) torch.Size([64])\n",
      "split_iris.3.dwConvConv.0.weight depthwise_conv2d_21/Kernel (1, 3, 3, 64) torch.Size([64, 1, 3, 3])\n",
      "split_iris.3.dwConvConv.0.bias depthwise_conv2d_21/Bias (64,) torch.Size([64])\n",
      "split_iris.3.dwConvConv.1.weight conv2d_44/Kernel (128, 1, 1, 64) torch.Size([128, 64, 1, 1])\n",
      "split_iris.3.dwConvConv.1.bias conv2d_44/Bias (128,) torch.Size([128])\n",
      "split_iris.3.act.weight p_re_lu_44/Alpha (1, 1, 128) torch.Size([128])\n",
      "split_iris.4.convAct.0.weight conv2d_45/Kernel (64, 1, 1, 128) torch.Size([64, 128, 1, 1])\n",
      "split_iris.4.convAct.0.bias conv2d_45/Bias (64,) torch.Size([64])\n",
      "split_iris.4.convAct.1.weight p_re_lu_45/Alpha (1, 1, 64) torch.Size([64])\n",
      "split_iris.4.dwConvConv.0.weight depthwise_conv2d_22/Kernel (1, 3, 3, 64) torch.Size([64, 1, 3, 3])\n",
      "split_iris.4.dwConvConv.0.bias depthwise_conv2d_22/Bias (64,) torch.Size([64])\n",
      "split_iris.4.dwConvConv.1.weight conv2d_46/Kernel (128, 1, 1, 64) torch.Size([128, 64, 1, 1])\n",
      "split_iris.4.dwConvConv.1.bias conv2d_46/Bias (128,) torch.Size([128])\n",
      "split_iris.4.act.weight p_re_lu_46/Alpha (1, 1, 128) torch.Size([128])\n",
      "split_iris.5.convAct.0.weight conv2d_47/Kernel (64, 2, 2, 128) torch.Size([64, 128, 2, 2])\n",
      "split_iris.5.convAct.0.bias conv2d_47/Bias (64,) torch.Size([64])\n",
      "split_iris.5.convAct.1.weight p_re_lu_47/Alpha (1, 1, 64) torch.Size([64])\n",
      "split_iris.5.dwConvConv.0.weight depthwise_conv2d_23/Kernel (1, 3, 3, 64) torch.Size([64, 1, 3, 3])\n",
      "split_iris.5.dwConvConv.0.bias depthwise_conv2d_23/Bias (64,) torch.Size([64])\n",
      "split_iris.5.dwConvConv.1.weight conv2d_48/Kernel (128, 1, 1, 64) torch.Size([128, 64, 1, 1])\n",
      "split_iris.5.dwConvConv.1.bias conv2d_48/Bias (128,) torch.Size([128])\n",
      "split_iris.5.act.weight p_re_lu_48/Alpha (1, 1, 128) torch.Size([128])\n",
      "split_iris.6.convAct.0.weight conv2d_49/Kernel (64, 1, 1, 128) torch.Size([64, 128, 1, 1])\n",
      "split_iris.6.convAct.0.bias conv2d_49/Bias (64,) torch.Size([64])\n",
      "split_iris.6.convAct.1.weight p_re_lu_49/Alpha (1, 1, 64) torch.Size([64])\n",
      "split_iris.6.dwConvConv.0.weight depthwise_conv2d_24/Kernel (1, 3, 3, 64) torch.Size([64, 1, 3, 3])\n",
      "split_iris.6.dwConvConv.0.bias depthwise_conv2d_24/Bias (64,) torch.Size([64])\n",
      "split_iris.6.dwConvConv.1.weight conv2d_50/Kernel (128, 1, 1, 64) torch.Size([128, 64, 1, 1])\n",
      "split_iris.6.dwConvConv.1.bias conv2d_50/Bias (128,) torch.Size([128])\n",
      "split_iris.6.act.weight p_re_lu_50/Alpha (1, 1, 128) torch.Size([128])\n",
      "split_iris.7.convAct.0.weight conv2d_51/Kernel (64, 1, 1, 128) torch.Size([64, 128, 1, 1])\n",
      "split_iris.7.convAct.0.bias conv2d_51/Bias (64,) torch.Size([64])\n",
      "split_iris.7.convAct.1.weight p_re_lu_51/Alpha (1, 1, 64) torch.Size([64])\n",
      "split_iris.7.dwConvConv.0.weight depthwise_conv2d_25/Kernel (1, 3, 3, 64) torch.Size([64, 1, 3, 3])\n",
      "split_iris.7.dwConvConv.0.bias depthwise_conv2d_25/Bias (64,) torch.Size([64])\n",
      "split_iris.7.dwConvConv.1.weight conv2d_52/Kernel (128, 1, 1, 64) torch.Size([128, 64, 1, 1])\n",
      "split_iris.7.dwConvConv.1.bias conv2d_52/Bias (128,) torch.Size([128])\n",
      "split_iris.7.act.weight p_re_lu_52/Alpha (1, 1, 128) torch.Size([128])\n",
      "split_iris.8.weight conv_iris/Kernel (15, 2, 2, 128) torch.Size([15, 128, 2, 2])\n",
      "split_iris.8.bias conv_iris/Bias (15,) torch.Size([15])\n",
      "/home/cedric/.local/lib/python3.6/site-packages/ipykernel_launcher.py:15: UserWarning: The given NumPy array is not writeable, and PyTorch does not support non-writeable tensors. This means you can write to the underlying (supposedly non-writeable) NumPy array using the tensor. You may want to copy the array to protect its data or make it writeable before converting it to a tensor. This type of warning will be suppressed for the rest of this program. (Triggered internally at  /pytorch/torch/csrc/utils/tensor_numpy.cpp:143.)\n",
      "  from ipykernel import kernelapp as app\n"
     ]
    }
   ],
   "source": [
    "new_state_dict = OrderedDict()\n",
    "\n",
    "for dst, src in convert.items():\n",
    "    W = get_weights(src)\n",
    "    print(dst, src, W.shape, net.state_dict()[dst].shape)\n",
    "\n",
    "    if W.ndim == 4:\n",
    "        if W.shape[0] == 1: # no conv2d with out_channel == 1 in this net\n",
    "            W = W.transpose((3, 0, 1, 2))  # depthwise conv\n",
    "        else:\n",
    "            W = W.transpose((0, 3, 1, 2))  # regular conv\n",
    "    elif W.ndim == 3:\n",
    "        W = W.reshape(-1)\n",
    "    \n",
    "    new_state_dict[dst] = torch.from_numpy(W)"
   ]
  },
  {
   "cell_type": "code",
   "execution_count": 23,
   "metadata": {},
   "outputs": [
    {
     "output_type": "execute_result",
     "data": {
      "text/plain": [
       "<All keys matched successfully>"
      ]
     },
     "metadata": {},
     "execution_count": 23
    }
   ],
   "source": [
    "net.load_state_dict(new_state_dict, strict=True)"
   ]
  },
  {
   "cell_type": "markdown",
   "metadata": {},
   "source": [
    "No errors? Then the conversion was successful!"
   ]
  },
  {
   "cell_type": "markdown",
   "metadata": {},
   "source": [
    "## Save the checkpoint"
   ]
  },
  {
   "cell_type": "code",
   "execution_count": 24,
   "metadata": {},
   "outputs": [],
   "source": [
    "torch.save(net.state_dict(), \"irislandmarks.pth\")"
   ]
  },
  {
   "cell_type": "code",
   "execution_count": null,
   "metadata": {},
   "outputs": [],
   "source": []
  }
 ],
 "metadata": {
  "kernelspec": {
   "name": "python3",
   "display_name": "Python 3.6.13 64-bit ('tensorflow1': conda)"
  },
  "language_info": {
   "codemirror_mode": {
    "name": "ipython",
    "version": 3
   },
   "file_extension": ".py",
   "mimetype": "text/x-python",
   "name": "python",
   "nbconvert_exporter": "python",
   "pygments_lexer": "ipython3",
   "version": "3.6.13"
  },
  "interpreter": {
   "hash": "ab73e5346d335e9853292dbb907b47aa5a0b82cc89c27f1a0351f3571cc4d03f"
  }
 },
 "nbformat": 4,
 "nbformat_minor": 2
}